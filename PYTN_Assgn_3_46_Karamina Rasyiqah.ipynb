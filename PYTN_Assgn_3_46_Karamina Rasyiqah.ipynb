{
 "cells": [
  {
   "cell_type": "markdown",
   "metadata": {},
   "source": [
    "# Portuguese Bank Marketing Dataset"
   ]
  },
  {
   "cell_type": "markdown",
   "metadata": {},
   "source": [
    "Pengerjaan tugas ini menggunakan dataset terkait strategi pemasaran yang dilakukan oleh salah satu bank di Portugis. Adapun dataset dapat diunduh melalui UCI (https://archive.ics.uci.edu/ml/datasets/Bank+Marketing)."
   ]
  },
  {
   "cell_type": "markdown",
   "metadata": {},
   "source": [
    "Langkah pertama yang dilakukan adalah mengimpor semua library yang diperlukan seperti di bawah ini. Adapun library ini akan digunakan pada proses pre-processing, data analysis, dan konstruksi model."
   ]
  },
  {
   "cell_type": "code",
   "execution_count": 86,
   "metadata": {},
   "outputs": [],
   "source": [
    "import pandas as pd\n",
    "import numpy as np\n",
    "import matplotlib.pyplot as plt\n",
    "import seaborn as sns\n",
    "%matplotlib inline\n",
    "\n",
    "from sklearn.model_selection import train_test_split\n",
    "from sklearn.tree import DecisionTreeClassifier\n",
    "from sklearn.ensemble import RandomForestClassifier\n",
    "from sklearn.svm import LinearSVC\n",
    "from sklearn.naive_bayes import GaussianNB\n",
    "from sklearn.linear_model import LogisticRegression\n",
    "from sklearn.neighbors import KNeighborsClassifier\n",
    "from sklearn.metrics import confusion_matrix\n",
    "from sklearn.metrics import classification_report\n",
    "\n",
    "from sklearn.model_selection import KFold\n",
    "from sklearn.model_selection import GridSearchCV"
   ]
  },
  {
   "cell_type": "markdown",
   "metadata": {},
   "source": [
    "Selanjutnya, load dataset yang digunakan. Perlu diperhatikan bahwa data tersimpan dalam format csv dan untuk setiap fiturnya dipisahkan oleh tanda titik koma (semi-colon), maka perlu ditambahkan fungsi sep = ';'."
   ]
  },
  {
   "cell_type": "code",
   "execution_count": 87,
   "metadata": {},
   "outputs": [],
   "source": [
    "data = pd.read_csv(r\"dataset/bank-full.csv\", sep = ';')"
   ]
  },
  {
   "cell_type": "markdown",
   "metadata": {},
   "source": [
    "Setelah itu, periksa 5 data pertama dan 5 data terakhir dari dataset dengan fungsi head() dan tail()."
   ]
  },
  {
   "cell_type": "code",
   "execution_count": 88,
   "metadata": {},
   "outputs": [
    {
     "data": {
      "text/html": [
       "<div>\n",
       "<style scoped>\n",
       "    .dataframe tbody tr th:only-of-type {\n",
       "        vertical-align: middle;\n",
       "    }\n",
       "\n",
       "    .dataframe tbody tr th {\n",
       "        vertical-align: top;\n",
       "    }\n",
       "\n",
       "    .dataframe thead th {\n",
       "        text-align: right;\n",
       "    }\n",
       "</style>\n",
       "<table border=\"1\" class=\"dataframe\">\n",
       "  <thead>\n",
       "    <tr style=\"text-align: right;\">\n",
       "      <th></th>\n",
       "      <th>age</th>\n",
       "      <th>job</th>\n",
       "      <th>marital</th>\n",
       "      <th>education</th>\n",
       "      <th>default</th>\n",
       "      <th>balance</th>\n",
       "      <th>housing</th>\n",
       "      <th>loan</th>\n",
       "      <th>contact</th>\n",
       "      <th>day</th>\n",
       "      <th>month</th>\n",
       "      <th>duration</th>\n",
       "      <th>campaign</th>\n",
       "      <th>pdays</th>\n",
       "      <th>previous</th>\n",
       "      <th>poutcome</th>\n",
       "      <th>y</th>\n",
       "    </tr>\n",
       "  </thead>\n",
       "  <tbody>\n",
       "    <tr>\n",
       "      <th>0</th>\n",
       "      <td>58</td>\n",
       "      <td>management</td>\n",
       "      <td>married</td>\n",
       "      <td>tertiary</td>\n",
       "      <td>no</td>\n",
       "      <td>2143</td>\n",
       "      <td>yes</td>\n",
       "      <td>no</td>\n",
       "      <td>unknown</td>\n",
       "      <td>5</td>\n",
       "      <td>may</td>\n",
       "      <td>261</td>\n",
       "      <td>1</td>\n",
       "      <td>-1</td>\n",
       "      <td>0</td>\n",
       "      <td>unknown</td>\n",
       "      <td>no</td>\n",
       "    </tr>\n",
       "    <tr>\n",
       "      <th>1</th>\n",
       "      <td>44</td>\n",
       "      <td>technician</td>\n",
       "      <td>single</td>\n",
       "      <td>secondary</td>\n",
       "      <td>no</td>\n",
       "      <td>29</td>\n",
       "      <td>yes</td>\n",
       "      <td>no</td>\n",
       "      <td>unknown</td>\n",
       "      <td>5</td>\n",
       "      <td>may</td>\n",
       "      <td>151</td>\n",
       "      <td>1</td>\n",
       "      <td>-1</td>\n",
       "      <td>0</td>\n",
       "      <td>unknown</td>\n",
       "      <td>no</td>\n",
       "    </tr>\n",
       "    <tr>\n",
       "      <th>2</th>\n",
       "      <td>33</td>\n",
       "      <td>entrepreneur</td>\n",
       "      <td>married</td>\n",
       "      <td>secondary</td>\n",
       "      <td>no</td>\n",
       "      <td>2</td>\n",
       "      <td>yes</td>\n",
       "      <td>yes</td>\n",
       "      <td>unknown</td>\n",
       "      <td>5</td>\n",
       "      <td>may</td>\n",
       "      <td>76</td>\n",
       "      <td>1</td>\n",
       "      <td>-1</td>\n",
       "      <td>0</td>\n",
       "      <td>unknown</td>\n",
       "      <td>no</td>\n",
       "    </tr>\n",
       "    <tr>\n",
       "      <th>3</th>\n",
       "      <td>47</td>\n",
       "      <td>blue-collar</td>\n",
       "      <td>married</td>\n",
       "      <td>unknown</td>\n",
       "      <td>no</td>\n",
       "      <td>1506</td>\n",
       "      <td>yes</td>\n",
       "      <td>no</td>\n",
       "      <td>unknown</td>\n",
       "      <td>5</td>\n",
       "      <td>may</td>\n",
       "      <td>92</td>\n",
       "      <td>1</td>\n",
       "      <td>-1</td>\n",
       "      <td>0</td>\n",
       "      <td>unknown</td>\n",
       "      <td>no</td>\n",
       "    </tr>\n",
       "    <tr>\n",
       "      <th>4</th>\n",
       "      <td>33</td>\n",
       "      <td>unknown</td>\n",
       "      <td>single</td>\n",
       "      <td>unknown</td>\n",
       "      <td>no</td>\n",
       "      <td>1</td>\n",
       "      <td>no</td>\n",
       "      <td>no</td>\n",
       "      <td>unknown</td>\n",
       "      <td>5</td>\n",
       "      <td>may</td>\n",
       "      <td>198</td>\n",
       "      <td>1</td>\n",
       "      <td>-1</td>\n",
       "      <td>0</td>\n",
       "      <td>unknown</td>\n",
       "      <td>no</td>\n",
       "    </tr>\n",
       "  </tbody>\n",
       "</table>\n",
       "</div>"
      ],
      "text/plain": [
       "   age           job  marital  education default  balance housing loan  \\\n",
       "0   58    management  married   tertiary      no     2143     yes   no   \n",
       "1   44    technician   single  secondary      no       29     yes   no   \n",
       "2   33  entrepreneur  married  secondary      no        2     yes  yes   \n",
       "3   47   blue-collar  married    unknown      no     1506     yes   no   \n",
       "4   33       unknown   single    unknown      no        1      no   no   \n",
       "\n",
       "   contact  day month  duration  campaign  pdays  previous poutcome   y  \n",
       "0  unknown    5   may       261         1     -1         0  unknown  no  \n",
       "1  unknown    5   may       151         1     -1         0  unknown  no  \n",
       "2  unknown    5   may        76         1     -1         0  unknown  no  \n",
       "3  unknown    5   may        92         1     -1         0  unknown  no  \n",
       "4  unknown    5   may       198         1     -1         0  unknown  no  "
      ]
     },
     "execution_count": 88,
     "metadata": {},
     "output_type": "execute_result"
    }
   ],
   "source": [
    "data.head(5)"
   ]
  },
  {
   "cell_type": "code",
   "execution_count": 89,
   "metadata": {},
   "outputs": [
    {
     "data": {
      "text/html": [
       "<div>\n",
       "<style scoped>\n",
       "    .dataframe tbody tr th:only-of-type {\n",
       "        vertical-align: middle;\n",
       "    }\n",
       "\n",
       "    .dataframe tbody tr th {\n",
       "        vertical-align: top;\n",
       "    }\n",
       "\n",
       "    .dataframe thead th {\n",
       "        text-align: right;\n",
       "    }\n",
       "</style>\n",
       "<table border=\"1\" class=\"dataframe\">\n",
       "  <thead>\n",
       "    <tr style=\"text-align: right;\">\n",
       "      <th></th>\n",
       "      <th>age</th>\n",
       "      <th>job</th>\n",
       "      <th>marital</th>\n",
       "      <th>education</th>\n",
       "      <th>default</th>\n",
       "      <th>balance</th>\n",
       "      <th>housing</th>\n",
       "      <th>loan</th>\n",
       "      <th>contact</th>\n",
       "      <th>day</th>\n",
       "      <th>month</th>\n",
       "      <th>duration</th>\n",
       "      <th>campaign</th>\n",
       "      <th>pdays</th>\n",
       "      <th>previous</th>\n",
       "      <th>poutcome</th>\n",
       "      <th>y</th>\n",
       "    </tr>\n",
       "  </thead>\n",
       "  <tbody>\n",
       "    <tr>\n",
       "      <th>45206</th>\n",
       "      <td>51</td>\n",
       "      <td>technician</td>\n",
       "      <td>married</td>\n",
       "      <td>tertiary</td>\n",
       "      <td>no</td>\n",
       "      <td>825</td>\n",
       "      <td>no</td>\n",
       "      <td>no</td>\n",
       "      <td>cellular</td>\n",
       "      <td>17</td>\n",
       "      <td>nov</td>\n",
       "      <td>977</td>\n",
       "      <td>3</td>\n",
       "      <td>-1</td>\n",
       "      <td>0</td>\n",
       "      <td>unknown</td>\n",
       "      <td>yes</td>\n",
       "    </tr>\n",
       "    <tr>\n",
       "      <th>45207</th>\n",
       "      <td>71</td>\n",
       "      <td>retired</td>\n",
       "      <td>divorced</td>\n",
       "      <td>primary</td>\n",
       "      <td>no</td>\n",
       "      <td>1729</td>\n",
       "      <td>no</td>\n",
       "      <td>no</td>\n",
       "      <td>cellular</td>\n",
       "      <td>17</td>\n",
       "      <td>nov</td>\n",
       "      <td>456</td>\n",
       "      <td>2</td>\n",
       "      <td>-1</td>\n",
       "      <td>0</td>\n",
       "      <td>unknown</td>\n",
       "      <td>yes</td>\n",
       "    </tr>\n",
       "    <tr>\n",
       "      <th>45208</th>\n",
       "      <td>72</td>\n",
       "      <td>retired</td>\n",
       "      <td>married</td>\n",
       "      <td>secondary</td>\n",
       "      <td>no</td>\n",
       "      <td>5715</td>\n",
       "      <td>no</td>\n",
       "      <td>no</td>\n",
       "      <td>cellular</td>\n",
       "      <td>17</td>\n",
       "      <td>nov</td>\n",
       "      <td>1127</td>\n",
       "      <td>5</td>\n",
       "      <td>184</td>\n",
       "      <td>3</td>\n",
       "      <td>success</td>\n",
       "      <td>yes</td>\n",
       "    </tr>\n",
       "    <tr>\n",
       "      <th>45209</th>\n",
       "      <td>57</td>\n",
       "      <td>blue-collar</td>\n",
       "      <td>married</td>\n",
       "      <td>secondary</td>\n",
       "      <td>no</td>\n",
       "      <td>668</td>\n",
       "      <td>no</td>\n",
       "      <td>no</td>\n",
       "      <td>telephone</td>\n",
       "      <td>17</td>\n",
       "      <td>nov</td>\n",
       "      <td>508</td>\n",
       "      <td>4</td>\n",
       "      <td>-1</td>\n",
       "      <td>0</td>\n",
       "      <td>unknown</td>\n",
       "      <td>no</td>\n",
       "    </tr>\n",
       "    <tr>\n",
       "      <th>45210</th>\n",
       "      <td>37</td>\n",
       "      <td>entrepreneur</td>\n",
       "      <td>married</td>\n",
       "      <td>secondary</td>\n",
       "      <td>no</td>\n",
       "      <td>2971</td>\n",
       "      <td>no</td>\n",
       "      <td>no</td>\n",
       "      <td>cellular</td>\n",
       "      <td>17</td>\n",
       "      <td>nov</td>\n",
       "      <td>361</td>\n",
       "      <td>2</td>\n",
       "      <td>188</td>\n",
       "      <td>11</td>\n",
       "      <td>other</td>\n",
       "      <td>no</td>\n",
       "    </tr>\n",
       "  </tbody>\n",
       "</table>\n",
       "</div>"
      ],
      "text/plain": [
       "       age           job   marital  education default  balance housing loan  \\\n",
       "45206   51    technician   married   tertiary      no      825      no   no   \n",
       "45207   71       retired  divorced    primary      no     1729      no   no   \n",
       "45208   72       retired   married  secondary      no     5715      no   no   \n",
       "45209   57   blue-collar   married  secondary      no      668      no   no   \n",
       "45210   37  entrepreneur   married  secondary      no     2971      no   no   \n",
       "\n",
       "         contact  day month  duration  campaign  pdays  previous poutcome    y  \n",
       "45206   cellular   17   nov       977         3     -1         0  unknown  yes  \n",
       "45207   cellular   17   nov       456         2     -1         0  unknown  yes  \n",
       "45208   cellular   17   nov      1127         5    184         3  success  yes  \n",
       "45209  telephone   17   nov       508         4     -1         0  unknown   no  \n",
       "45210   cellular   17   nov       361         2    188        11    other   no  "
      ]
     },
     "execution_count": 89,
     "metadata": {},
     "output_type": "execute_result"
    }
   ],
   "source": [
    "data.tail(5)"
   ]
  },
  {
   "cell_type": "markdown",
   "metadata": {},
   "source": [
    "Periksa ukuran dari dataset ini dengan menggunakan method shape."
   ]
  },
  {
   "cell_type": "code",
   "execution_count": 90,
   "metadata": {},
   "outputs": [
    {
     "data": {
      "text/plain": [
       "(45211, 17)"
      ]
     },
     "execution_count": 90,
     "metadata": {},
     "output_type": "execute_result"
    }
   ],
   "source": [
    "data.shape"
   ]
  },
  {
   "cell_type": "markdown",
   "metadata": {},
   "source": [
    "### Informasi yang diperoleh:\n",
    "dataset terdiri dari 17 fitur dan 45211 data."
   ]
  },
  {
   "cell_type": "markdown",
   "metadata": {},
   "source": [
    "Lalu periksa fitur apa saja yang tersedia pada dataset ini"
   ]
  },
  {
   "cell_type": "code",
   "execution_count": 91,
   "metadata": {},
   "outputs": [
    {
     "data": {
      "text/plain": [
       "Index(['age', 'job', 'marital', 'education', 'default', 'balance', 'housing',\n",
       "       'loan', 'contact', 'day', 'month', 'duration', 'campaign', 'pdays',\n",
       "       'previous', 'poutcome', 'y'],\n",
       "      dtype='object')"
      ]
     },
     "execution_count": 91,
     "metadata": {},
     "output_type": "execute_result"
    }
   ],
   "source": [
    "data.columns"
   ]
  },
  {
   "cell_type": "markdown",
   "metadata": {},
   "source": [
    "### Informasi yang diperoleh:\n",
    "Fitur yang tersedia pada dataset ini antara lain age, job, marital, education, default, balance, housing, loan, contact, day, month, duration, campaign, pdays, previous, poutcome, dan y. Adapun keterangan fitur ini dijelaskan secara lengkap sebagai berikut:"
   ]
  },
  {
   "cell_type": "markdown",
   "metadata": {},
   "source": [
    "1. age: usia calon nasabah\n",
    "2. job: pekerjaan calon nasabah\n",
    "3. marital: status perkawinan calon nasabah\n",
    "4. education: pendidikan terakhir calon nasabah\n",
    "5. default: kepemilikan kredit tak tuntas calon nasabah\n",
    "6. balance: \n",
    "7. housing: kepemilikan pinjaman atas rumah.\n",
    "8. loan: kepemilikan pinjaman atas nama pribadi.\n",
    "9. contact: tipe kontak yang dipakai calon nasabah.\n",
    "10. day: tanggal kontak terakhir bank dengan klien.\n",
    "11. month: bulan kontak terakhir bank dengan klien.\n",
    "12. duration: lama panggilan/durasi kontak terakhir bank dengan klien. Jika durasi bernilai 0, artinya bank belum memiliki kontak apapun dengan klien.\n",
    "13. campaign: banyaknya kontak yang coba dilakukan oleh pihak bank kepada klien selama kampanye berjalan.\n",
    "14. pdays: banyaknya hari setelah kontak terakhir dengan klien.\n",
    "15. previous: banyaknya kontak yang coba dilakukan oleh pihak bank kepada klien sebelum kampanye berjalan.\n",
    "16. y: variabel target (apakah klien akan mendaftarkan diri pada layanan bank?)"
   ]
  },
  {
   "cell_type": "markdown",
   "metadata": {},
   "source": [
    "Selanjutnya, periksa informasi lengkap mengenai dataset dengan menggunakan fungsi info()."
   ]
  },
  {
   "cell_type": "code",
   "execution_count": 92,
   "metadata": {},
   "outputs": [
    {
     "name": "stdout",
     "output_type": "stream",
     "text": [
      "<class 'pandas.core.frame.DataFrame'>\n",
      "RangeIndex: 45211 entries, 0 to 45210\n",
      "Data columns (total 17 columns):\n",
      " #   Column     Non-Null Count  Dtype \n",
      "---  ------     --------------  ----- \n",
      " 0   age        45211 non-null  int64 \n",
      " 1   job        45211 non-null  object\n",
      " 2   marital    45211 non-null  object\n",
      " 3   education  45211 non-null  object\n",
      " 4   default    45211 non-null  object\n",
      " 5   balance    45211 non-null  int64 \n",
      " 6   housing    45211 non-null  object\n",
      " 7   loan       45211 non-null  object\n",
      " 8   contact    45211 non-null  object\n",
      " 9   day        45211 non-null  int64 \n",
      " 10  month      45211 non-null  object\n",
      " 11  duration   45211 non-null  int64 \n",
      " 12  campaign   45211 non-null  int64 \n",
      " 13  pdays      45211 non-null  int64 \n",
      " 14  previous   45211 non-null  int64 \n",
      " 15  poutcome   45211 non-null  object\n",
      " 16  y          45211 non-null  object\n",
      "dtypes: int64(7), object(10)\n",
      "memory usage: 5.9+ MB\n"
     ]
    }
   ],
   "source": [
    "data.info()"
   ]
  },
  {
   "cell_type": "markdown",
   "metadata": {},
   "source": [
    "### Informasi yang diperoleh:\n",
    "Data terdiri dari 7 fitur numerik (age, balance, day, duration, campaign, pdays, previous) dan 10 fitur kategorik (job, marital, education, default, housing, loan, contact, month, poutcome). Adapun jumlah data pada masing-masing fitur adalah sama, yaitu 45211 yang mengindikasikan bahwa tidak ada missing value pada data.\n",
    "\n",
    "Di bawah ini akan dikerjakan pengubahan tipe data object menjadi category."
   ]
  },
  {
   "cell_type": "code",
   "execution_count": 93,
   "metadata": {},
   "outputs": [],
   "source": [
    "data['job'] = data['job'].astype({'job':'category'})\n",
    "data['marital'] = data['marital'].astype({'marital':'category'})\n",
    "data['education'] = data['education'].astype({'education':'category'})\n",
    "data['default'] = data['default'].astype({'default':'category'})\n",
    "data['housing'] = data['housing'].astype({'housing':'category'})\n",
    "data['loan'] = data['loan'].astype({'loan':'category'})\n",
    "data['contact'] = data['contact'].astype({'contact':'category'})\n",
    "data['month'] = data['month'].astype({'month':'category'})\n",
    "data['poutcome'] = data['poutcome'].astype({'poutcome':'category'})\n",
    "data['y'] = data['y'].astype({'y':'category'})"
   ]
  },
  {
   "cell_type": "code",
   "execution_count": 94,
   "metadata": {},
   "outputs": [
    {
     "name": "stdout",
     "output_type": "stream",
     "text": [
      "<class 'pandas.core.frame.DataFrame'>\n",
      "RangeIndex: 45211 entries, 0 to 45210\n",
      "Data columns (total 17 columns):\n",
      " #   Column     Non-Null Count  Dtype   \n",
      "---  ------     --------------  -----   \n",
      " 0   age        45211 non-null  int64   \n",
      " 1   job        45211 non-null  category\n",
      " 2   marital    45211 non-null  category\n",
      " 3   education  45211 non-null  category\n",
      " 4   default    45211 non-null  category\n",
      " 5   balance    45211 non-null  int64   \n",
      " 6   housing    45211 non-null  category\n",
      " 7   loan       45211 non-null  category\n",
      " 8   contact    45211 non-null  category\n",
      " 9   day        45211 non-null  int64   \n",
      " 10  month      45211 non-null  category\n",
      " 11  duration   45211 non-null  int64   \n",
      " 12  campaign   45211 non-null  int64   \n",
      " 13  pdays      45211 non-null  int64   \n",
      " 14  previous   45211 non-null  int64   \n",
      " 15  poutcome   45211 non-null  category\n",
      " 16  y          45211 non-null  category\n",
      "dtypes: category(10), int64(7)\n",
      "memory usage: 2.8 MB\n"
     ]
    }
   ],
   "source": [
    "data.info()"
   ]
  },
  {
   "cell_type": "markdown",
   "metadata": {},
   "source": [
    "Berdasarkan hasil di atas, dapat diketahui bahwa tipe data object telah berhasil diubah menjadi category. Selanjutnya periksa central tendency dari data numerik pada dataset seperti di bawah ini."
   ]
  },
  {
   "cell_type": "code",
   "execution_count": 95,
   "metadata": {},
   "outputs": [
    {
     "data": {
      "text/html": [
       "<div>\n",
       "<style scoped>\n",
       "    .dataframe tbody tr th:only-of-type {\n",
       "        vertical-align: middle;\n",
       "    }\n",
       "\n",
       "    .dataframe tbody tr th {\n",
       "        vertical-align: top;\n",
       "    }\n",
       "\n",
       "    .dataframe thead th {\n",
       "        text-align: right;\n",
       "    }\n",
       "</style>\n",
       "<table border=\"1\" class=\"dataframe\">\n",
       "  <thead>\n",
       "    <tr style=\"text-align: right;\">\n",
       "      <th></th>\n",
       "      <th>age</th>\n",
       "      <th>balance</th>\n",
       "      <th>day</th>\n",
       "      <th>duration</th>\n",
       "      <th>campaign</th>\n",
       "      <th>pdays</th>\n",
       "      <th>previous</th>\n",
       "    </tr>\n",
       "  </thead>\n",
       "  <tbody>\n",
       "    <tr>\n",
       "      <th>count</th>\n",
       "      <td>45211.000000</td>\n",
       "      <td>45211.000000</td>\n",
       "      <td>45211.000000</td>\n",
       "      <td>45211.000000</td>\n",
       "      <td>45211.000000</td>\n",
       "      <td>45211.000000</td>\n",
       "      <td>45211.000000</td>\n",
       "    </tr>\n",
       "    <tr>\n",
       "      <th>mean</th>\n",
       "      <td>40.936210</td>\n",
       "      <td>1362.272058</td>\n",
       "      <td>15.806419</td>\n",
       "      <td>258.163080</td>\n",
       "      <td>2.763841</td>\n",
       "      <td>40.197828</td>\n",
       "      <td>0.580323</td>\n",
       "    </tr>\n",
       "    <tr>\n",
       "      <th>std</th>\n",
       "      <td>10.618762</td>\n",
       "      <td>3044.765829</td>\n",
       "      <td>8.322476</td>\n",
       "      <td>257.527812</td>\n",
       "      <td>3.098021</td>\n",
       "      <td>100.128746</td>\n",
       "      <td>2.303441</td>\n",
       "    </tr>\n",
       "    <tr>\n",
       "      <th>min</th>\n",
       "      <td>18.000000</td>\n",
       "      <td>-8019.000000</td>\n",
       "      <td>1.000000</td>\n",
       "      <td>0.000000</td>\n",
       "      <td>1.000000</td>\n",
       "      <td>-1.000000</td>\n",
       "      <td>0.000000</td>\n",
       "    </tr>\n",
       "    <tr>\n",
       "      <th>25%</th>\n",
       "      <td>33.000000</td>\n",
       "      <td>72.000000</td>\n",
       "      <td>8.000000</td>\n",
       "      <td>103.000000</td>\n",
       "      <td>1.000000</td>\n",
       "      <td>-1.000000</td>\n",
       "      <td>0.000000</td>\n",
       "    </tr>\n",
       "    <tr>\n",
       "      <th>50%</th>\n",
       "      <td>39.000000</td>\n",
       "      <td>448.000000</td>\n",
       "      <td>16.000000</td>\n",
       "      <td>180.000000</td>\n",
       "      <td>2.000000</td>\n",
       "      <td>-1.000000</td>\n",
       "      <td>0.000000</td>\n",
       "    </tr>\n",
       "    <tr>\n",
       "      <th>75%</th>\n",
       "      <td>48.000000</td>\n",
       "      <td>1428.000000</td>\n",
       "      <td>21.000000</td>\n",
       "      <td>319.000000</td>\n",
       "      <td>3.000000</td>\n",
       "      <td>-1.000000</td>\n",
       "      <td>0.000000</td>\n",
       "    </tr>\n",
       "    <tr>\n",
       "      <th>max</th>\n",
       "      <td>95.000000</td>\n",
       "      <td>102127.000000</td>\n",
       "      <td>31.000000</td>\n",
       "      <td>4918.000000</td>\n",
       "      <td>63.000000</td>\n",
       "      <td>871.000000</td>\n",
       "      <td>275.000000</td>\n",
       "    </tr>\n",
       "  </tbody>\n",
       "</table>\n",
       "</div>"
      ],
      "text/plain": [
       "                age        balance           day      duration      campaign  \\\n",
       "count  45211.000000   45211.000000  45211.000000  45211.000000  45211.000000   \n",
       "mean      40.936210    1362.272058     15.806419    258.163080      2.763841   \n",
       "std       10.618762    3044.765829      8.322476    257.527812      3.098021   \n",
       "min       18.000000   -8019.000000      1.000000      0.000000      1.000000   \n",
       "25%       33.000000      72.000000      8.000000    103.000000      1.000000   \n",
       "50%       39.000000     448.000000     16.000000    180.000000      2.000000   \n",
       "75%       48.000000    1428.000000     21.000000    319.000000      3.000000   \n",
       "max       95.000000  102127.000000     31.000000   4918.000000     63.000000   \n",
       "\n",
       "              pdays      previous  \n",
       "count  45211.000000  45211.000000  \n",
       "mean      40.197828      0.580323  \n",
       "std      100.128746      2.303441  \n",
       "min       -1.000000      0.000000  \n",
       "25%       -1.000000      0.000000  \n",
       "50%       -1.000000      0.000000  \n",
       "75%       -1.000000      0.000000  \n",
       "max      871.000000    275.000000  "
      ]
     },
     "execution_count": 95,
     "metadata": {},
     "output_type": "execute_result"
    }
   ],
   "source": [
    "data.describe()"
   ]
  },
  {
   "cell_type": "markdown",
   "metadata": {},
   "source": [
    "### Informasi yang diperoleh\n",
    "Berdasarkan hasil di atas, didapatkan informasi:\n",
    "#### 1. Age\n",
    "Rata-rata usia calon nasabah adalah 41 tahun. Usia paling muda calon nasabah adalah 18 tahun dan paling tua adalah 95 tahun.\n",
    "#### 2. Balance\n",
    "Rata-rata credit balance calon nasabah adalah 1362,3 (EUR) dengan jumlah balance paling kecil adalah -8019 (EUR) dan jumlah balance terbesar yang dimiliki calon nasabah adalah 102,127 (EUR). Adapun standar deviasi pada fitur balance ini adalah 3044,77 yang mengindikasikan keberagaman nilai data pada fitur ini.\n",
    "#### 3. Duration\n",
    "Rata-rata durasi panggilan terakhir adalah 258 detik. Adapun waktu terpendek untuk suatu panggilan adalah 0 yang diketahui pada keterangan dataset bahwa nilai 0 pada fitur ini artinya bahwa staf marketing bank tidak berhasil menghubungi calon nasabah tersebut. Hal ini berakibat hilangnya kemungkinan calon nasabah mendaftarkan diri pada layanan kredit ini. Indikasinya adalah bahwa pada campaign kali ini, terdapat staf marketing bank yang tidak berhasil menghubungi calon nasabah. Selanjutnya, waktu terpanjang untuk suatu panggilan pada campaign kali ini adalah 4918 detik atau sekitar 1 jam 22 menit.\n",
    "#### 4. Campaign\n",
    "Rata-rata banyaknya panggilan yang dilakukan staf marketing bank kepada setiap nasabah untuk kampanye kali ini adalah 2-3 kali dengan banyaknya panggilan paling sedikit adalah 1 kali dan paling banyak adalah 63 kali.\n",
    "#### 5. Pdays\n",
    "Rata-rata banyaknya hari sejak panggilan terakhir (yang dilakukan staf marketing bank) pada campaign sebelum ini adalah sekitar 40 hari. Adapun nilai minimumnya adalah -1 hari dan nilai maksimum hari adalah 871. Pada keterangan disediakan keterangan bahwa nilai 999 pada fitur ini mengartikan bahwa klien belum pernah dihubungi sebelumnya. namun, pada data ini tidak terdapat nilai 999 pada fitur ini yang mengindikasikan bahwa klien yang dihubungi pada campaign kali ini adalah klien yang sudah pernah dihubungi sebelumnya.\n",
    "#### 6. Previous\n",
    "Rata-rata banyaknya panggilan yang dilakukan staf marketing bank kepada setiap nasabah sebelum kampanye ini dilaksanakan adalah 0-1 kali dengan banyaknya panggilan paling sedikit adalah 0 kali dan paling banyak adalah 275 kali."
   ]
  },
  {
   "cell_type": "markdown",
   "metadata": {},
   "source": [
    "Karena data dengan durasi 0 telah jelas mengindikasikan bahwa tidak adanya kontak terhadap klien, maka data dengan nilai duration 0 akan dihapus."
   ]
  },
  {
   "cell_type": "code",
   "execution_count": 96,
   "metadata": {},
   "outputs": [],
   "source": [
    "zero_duration = data[data['duration']==0].index\n",
    "data.drop(zero_duration, inplace=True)"
   ]
  },
  {
   "cell_type": "code",
   "execution_count": 97,
   "metadata": {},
   "outputs": [
    {
     "data": {
      "text/plain": [
       "(45208, 17)"
      ]
     },
     "execution_count": 97,
     "metadata": {},
     "output_type": "execute_result"
    }
   ],
   "source": [
    "data.shape"
   ]
  },
  {
   "cell_type": "markdown",
   "metadata": {},
   "source": [
    "Berdasarkan hasil di atas didapat bahwa data dengan nilai durasi 0 telah berhasil dihapus karena data yang semula berjumlah 45211 kini telah menjadi 45208. Selanjutnya akan dihitung persentase keputusan akhir klien untuk bergabung dengan program kredit pada campaign ini."
   ]
  },
  {
   "cell_type": "code",
   "execution_count": 98,
   "metadata": {},
   "outputs": [
    {
     "data": {
      "text/plain": [
       "no     88.300743\n",
       "yes    11.699257\n",
       "Name: y, dtype: float64"
      ]
     },
     "execution_count": 98,
     "metadata": {},
     "output_type": "execute_result"
    }
   ],
   "source": [
    "data['y'].value_counts(normalize=True)*100"
   ]
  },
  {
   "cell_type": "markdown",
   "metadata": {},
   "source": [
    "### Informasi yang diperoleh\n",
    "dari 45208 klien, hanya terdapat 11.7% klien yang memutuskan untuk menjadi nasabah di bank ini, sementara sisanya, 88.3% klien, memutuskan untuk tidak bergabung menjadi nasabah bank."
   ]
  },
  {
   "cell_type": "markdown",
   "metadata": {},
   "source": [
    "## Deteksi Outliers\n",
    "Pertama-tama, akan dideteksi outliers pada data usia klien."
   ]
  },
  {
   "cell_type": "code",
   "execution_count": 99,
   "metadata": {},
   "outputs": [
    {
     "data": {
      "text/plain": [
       "<AxesSubplot:>"
      ]
     },
     "execution_count": 99,
     "metadata": {},
     "output_type": "execute_result"
    },
    {
     "data": {
      "image/png": "[encoded data removed]",
      "text/plain": [
       "<Figure size 360x648 with 1 Axes>"
      ]
     },
     "metadata": {
      "needs_background": "light"
     },
     "output_type": "display_data"
    }
   ],
   "source": [
    "data.boxplot(\n",
    "    column = ['age'],\n",
    "    figsize=(5,9)\n",
    ")"
   ]
  },
  {
   "cell_type": "markdown",
   "metadata": {},
   "source": [
    "Berdasarkan hasil di atas, klien berusia lebih dari 70 tahun termasuk ke dalam outliers data. Sekarang, akan dihitung jumlah klien yang berusia lebih dari 70 tahun."
   ]
  },
  {
   "cell_type": "code",
   "execution_count": 100,
   "metadata": {},
   "outputs": [
    {
     "data": {
      "text/plain": [
       "age          487\n",
       "job          487\n",
       "marital      487\n",
       "education    487\n",
       "default      487\n",
       "balance      487\n",
       "housing      487\n",
       "loan         487\n",
       "contact      487\n",
       "day          487\n",
       "month        487\n",
       "duration     487\n",
       "campaign     487\n",
       "pdays        487\n",
       "previous     487\n",
       "poutcome     487\n",
       "y            487\n",
       "dtype: int64"
      ]
     },
     "execution_count": 100,
     "metadata": {},
     "output_type": "execute_result"
    }
   ],
   "source": [
    "data[data['age']>70].count()"
   ]
  },
  {
   "cell_type": "markdown",
   "metadata": {},
   "source": [
    "Terdapat 487 klien berusia lebih dari 70 tahun. Sekarang, akan dilihat kecenderungan klien berusia lebih dari 70 tahun, apakah sebagian besar bergabung menjadi nasabah bank atau tidak."
   ]
  },
  {
   "cell_type": "code",
   "execution_count": 101,
   "metadata": {
    "scrolled": false
   },
   "outputs": [
    {
     "data": {
      "text/plain": [
       "218"
      ]
     },
     "execution_count": 101,
     "metadata": {},
     "output_type": "execute_result"
    }
   ],
   "source": [
    "data[(data['age']>70) & (data['y']=='yes')]['y'].count()"
   ]
  },
  {
   "cell_type": "markdown",
   "metadata": {},
   "source": [
    "Berdasarkan hasil di atas, terlihat bahwa hampir 50% klien berusia lebih dari 70% bergabung menjadi nasabah bank. Maka dari itu, data klien berusia lebih dari 70 tahun tidak akan dihapus/diubah."
   ]
  },
  {
   "cell_type": "markdown",
   "metadata": {},
   "source": [
    "Di bawah ini akan dilihat outliers untuk data klien pada fitur balance, duration, campaign, pdays dan previous."
   ]
  },
  {
   "cell_type": "code",
   "execution_count": 102,
   "metadata": {},
   "outputs": [
    {
     "data": {
      "text/plain": [
       "<AxesSubplot:>"
      ]
     },
     "execution_count": 102,
     "metadata": {},
     "output_type": "execute_result"
    },
    {
     "data": {
      "image/png": "[encoded data removed]",
      "text/plain": [
       "<Figure size 360x648 with 1 Axes>"
      ]
     },
     "metadata": {
      "needs_background": "light"
     },
     "output_type": "display_data"
    }
   ],
   "source": [
    "data.boxplot(\n",
    "    column = ['balance'],\n",
    "    figsize=(5,9)\n",
    ")"
   ]
  },
  {
   "cell_type": "code",
   "execution_count": 103,
   "metadata": {},
   "outputs": [
    {
     "data": {
      "text/plain": [
       "<AxesSubplot:>"
      ]
     },
     "execution_count": 103,
     "metadata": {},
     "output_type": "execute_result"
    },
    {
     "data": {
      "image/png": "[encoded data removed]",
      "text/plain": [
       "<Figure size 360x648 with 1 Axes>"
      ]
     },
     "metadata": {
      "needs_background": "light"
     },
     "output_type": "display_data"
    }
   ],
   "source": [
    "data.boxplot(\n",
    "    column = ['duration'],\n",
    "    figsize=(5,9)\n",
    ")"
   ]
  },
  {
   "cell_type": "code",
   "execution_count": 104,
   "metadata": {},
   "outputs": [
    {
     "data": {
      "text/plain": [
       "<AxesSubplot:>"
      ]
     },
     "execution_count": 104,
     "metadata": {},
     "output_type": "execute_result"
    },
    {
     "data": {
      "image/png": "[encoded data removed]",
      "text/plain": [
       "<Figure size 360x648 with 1 Axes>"
      ]
     },
     "metadata": {
      "needs_background": "light"
     },
     "output_type": "display_data"
    }
   ],
   "source": [
    "data.boxplot(\n",
    "    column = ['campaign'],\n",
    "    figsize=(5,9)\n",
    ")"
   ]
  },
  {
   "cell_type": "code",
   "execution_count": 105,
   "metadata": {},
   "outputs": [
    {
     "data": {
      "text/plain": [
       "<AxesSubplot:>"
      ]
     },
     "execution_count": 105,
     "metadata": {},
     "output_type": "execute_result"
    },
    {
     "data": {
      "image/png": "[encoded data removed]",
      "text/plain": [
       "<Figure size 360x648 with 1 Axes>"
      ]
     },
     "metadata": {
      "needs_background": "light"
     },
     "output_type": "display_data"
    }
   ],
   "source": [
    "data.boxplot(\n",
    "    column = ['pdays'],\n",
    "    figsize=(5,9)\n",
    ")"
   ]
  },
  {
   "cell_type": "code",
   "execution_count": 106,
   "metadata": {},
   "outputs": [
    {
     "data": {
      "text/plain": [
       "<AxesSubplot:>"
      ]
     },
     "execution_count": 106,
     "metadata": {},
     "output_type": "execute_result"
    },
    {
     "data": {
      "image/png": "[encoded data removed]",
      "text/plain": [
       "<Figure size 360x648 with 1 Axes>"
      ]
     },
     "metadata": {
      "needs_background": "light"
     },
     "output_type": "display_data"
    }
   ],
   "source": [
    "data.boxplot(\n",
    "    column = ['previous'],\n",
    "    figsize=(5,9)\n",
    ")"
   ]
  },
  {
   "cell_type": "markdown",
   "metadata": {},
   "source": [
    "Berdasarkan hasil di atas, terdapat satu data yang nilainya terlihat sangat jauh dari nilai data lainnya. Akan dilihat berapa banyak data tersebut."
   ]
  },
  {
   "cell_type": "code",
   "execution_count": 107,
   "metadata": {},
   "outputs": [
    {
     "data": {
      "text/plain": [
       "age          1\n",
       "job          1\n",
       "marital      1\n",
       "education    1\n",
       "default      1\n",
       "balance      1\n",
       "housing      1\n",
       "loan         1\n",
       "contact      1\n",
       "day          1\n",
       "month        1\n",
       "duration     1\n",
       "campaign     1\n",
       "pdays        1\n",
       "previous     1\n",
       "poutcome     1\n",
       "y            1\n",
       "dtype: int64"
      ]
     },
     "execution_count": 107,
     "metadata": {},
     "output_type": "execute_result"
    }
   ],
   "source": [
    "data[data['previous']>250].count()"
   ]
  },
  {
   "cell_type": "markdown",
   "metadata": {},
   "source": [
    "Berdasarkan hasil di atas, terdapat satu data pada fitur previous yang nilainya sangat jauh dari nilai data lainnya. Maka, data ini akan dihapus."
   ]
  },
  {
   "cell_type": "code",
   "execution_count": 108,
   "metadata": {},
   "outputs": [
    {
     "data": {
      "text/plain": [
       "(45207, 17)"
      ]
     },
     "execution_count": 108,
     "metadata": {},
     "output_type": "execute_result"
    }
   ],
   "source": [
    "outlier1_data = data[data['previous']>250].index\n",
    "data.drop(outlier1_data, inplace=True)\n",
    "data.shape"
   ]
  },
  {
   "cell_type": "markdown",
   "metadata": {},
   "source": [
    "Berdasarkan hasil di atas, outlier data berhasil dihapus. Selanjutnya, data kategorik akan dipetakan ke dalam bentuk angka untuk mempermudah analisis. Adapun pemetaan setiap nilai dari data kategorik dapat dilihat seperti berikut."
   ]
  },
  {
   "cell_type": "code",
   "execution_count": 109,
   "metadata": {},
   "outputs": [],
   "source": [
    "data['month']= data['month'].replace({'jan':1, 'feb':2,'mar':3,'apr':4,'may':5,'jun':6, 'jul':7,'aug':8,'sep':9,'oct':10,'nov':11,'dec':12})\n",
    "data['education'] = data['education'].replace({'primary':1,'secondary':2,'tertiary':3,'unknown':4})\n",
    "data['marital'] = data['marital'].replace({'single':1,'married':2,'divorced':3})\n",
    "data['housing'] = data['housing'].replace({'yes':1, 'no':0})\n",
    "data['default'] = data['default'].replace({'yes':1, 'no':0})\n",
    "data['loan'] = data['loan'].replace({'yes':1, 'no':0})\n",
    "data['y'] = data['y'].replace({'yes':1, 'no':0}) # y merupakan variabel target"
   ]
  },
  {
   "cell_type": "markdown",
   "metadata": {},
   "source": [
    "Selanjutnya, akan dilihat kecenderungan klien (berdasarkan pekerjaannya) terhadap keputusannya dalam memilih apakah mereka akan bergabung menjadi nasabah."
   ]
  },
  {
   "cell_type": "code",
   "execution_count": 110,
   "metadata": {},
   "outputs": [
    {
     "name": "stdout",
     "output_type": "stream",
     "text": [
      "y  job          \n",
      "0  admin.           4540\n",
      "   blue-collar      9024\n",
      "   entrepreneur     1363\n",
      "   housemaid        1131\n",
      "   management       8155\n",
      "   retired          1748\n",
      "   self-employed    1392\n",
      "   services         3785\n",
      "   student           669\n",
      "   technician       6756\n",
      "   unemployed       1101\n",
      "   unknown           254\n",
      "1  admin.            631\n",
      "   blue-collar       708\n",
      "   entrepreneur      123\n",
      "   housemaid         109\n",
      "   management       1301\n",
      "   retired           516\n",
      "   self-employed     187\n",
      "   services          369\n",
      "   student           269\n",
      "   technician        840\n",
      "   unemployed        202\n",
      "   unknown            34\n",
      "dtype: int64\n"
     ]
    }
   ],
   "source": [
    "print(data.groupby(['y','job']).size())"
   ]
  },
  {
   "cell_type": "markdown",
   "metadata": {},
   "source": [
    "Sebagian besar klien dengan profesi apapun cenderung memutuskan untuk tidak menjadi nasabah bank ini."
   ]
  },
  {
   "cell_type": "code",
   "execution_count": 111,
   "metadata": {},
   "outputs": [
    {
     "name": "stdout",
     "output_type": "stream",
     "text": [
      "y  month\n",
      "0  1         1261\n",
      "   2         2207\n",
      "   3          229\n",
      "   4         2355\n",
      "   5        12839\n",
      "   6         4795\n",
      "   7         6268\n",
      "   8         5558\n",
      "   9          310\n",
      "   10         415\n",
      "   11        3567\n",
      "   12         114\n",
      "1  1          142\n",
      "   2          441\n",
      "   3          248\n",
      "   4          577\n",
      "   5          925\n",
      "   6          546\n",
      "   7          627\n",
      "   8          688\n",
      "   9          269\n",
      "   10         323\n",
      "   11         403\n",
      "   12         100\n",
      "dtype: int64\n"
     ]
    }
   ],
   "source": [
    "print(data.groupby(['y','month']).size())"
   ]
  },
  {
   "cell_type": "markdown",
   "metadata": {},
   "source": [
    "Selanjutnya, data job akan dipetakan ke dalam bentuk angka untuk mempermudah analisis. Adapun pemetaan setiap nilai dari data kategorik dapat dilihat seperti berikut."
   ]
  },
  {
   "cell_type": "code",
   "execution_count": 112,
   "metadata": {},
   "outputs": [],
   "source": [
    "data['job']= data['job'].replace({'admin.':1, 'blue-collar':2,'entrepreneur':3,'housemaid':4,'management':5,'retired':6, 'self-employed':7,'services':8,'student':9,'technician':10,'unemployed':11,'unknown':12})"
   ]
  },
  {
   "cell_type": "code",
   "execution_count": 113,
   "metadata": {},
   "outputs": [
    {
     "data": {
      "text/html": [
       "<div>\n",
       "<style scoped>\n",
       "    .dataframe tbody tr th:only-of-type {\n",
       "        vertical-align: middle;\n",
       "    }\n",
       "\n",
       "    .dataframe tbody tr th {\n",
       "        vertical-align: top;\n",
       "    }\n",
       "\n",
       "    .dataframe thead th {\n",
       "        text-align: right;\n",
       "    }\n",
       "</style>\n",
       "<table border=\"1\" class=\"dataframe\">\n",
       "  <thead>\n",
       "    <tr style=\"text-align: right;\">\n",
       "      <th></th>\n",
       "      <th>age</th>\n",
       "      <th>job</th>\n",
       "      <th>marital</th>\n",
       "      <th>education</th>\n",
       "      <th>default</th>\n",
       "      <th>balance</th>\n",
       "      <th>housing</th>\n",
       "      <th>loan</th>\n",
       "      <th>contact</th>\n",
       "      <th>day</th>\n",
       "      <th>month</th>\n",
       "      <th>duration</th>\n",
       "      <th>campaign</th>\n",
       "      <th>pdays</th>\n",
       "      <th>previous</th>\n",
       "      <th>poutcome</th>\n",
       "      <th>y</th>\n",
       "    </tr>\n",
       "  </thead>\n",
       "  <tbody>\n",
       "    <tr>\n",
       "      <th>0</th>\n",
       "      <td>58</td>\n",
       "      <td>5</td>\n",
       "      <td>2</td>\n",
       "      <td>3</td>\n",
       "      <td>0</td>\n",
       "      <td>2143</td>\n",
       "      <td>1</td>\n",
       "      <td>0</td>\n",
       "      <td>unknown</td>\n",
       "      <td>5</td>\n",
       "      <td>5</td>\n",
       "      <td>261</td>\n",
       "      <td>1</td>\n",
       "      <td>-1</td>\n",
       "      <td>0</td>\n",
       "      <td>unknown</td>\n",
       "      <td>0</td>\n",
       "    </tr>\n",
       "    <tr>\n",
       "      <th>1</th>\n",
       "      <td>44</td>\n",
       "      <td>10</td>\n",
       "      <td>1</td>\n",
       "      <td>2</td>\n",
       "      <td>0</td>\n",
       "      <td>29</td>\n",
       "      <td>1</td>\n",
       "      <td>0</td>\n",
       "      <td>unknown</td>\n",
       "      <td>5</td>\n",
       "      <td>5</td>\n",
       "      <td>151</td>\n",
       "      <td>1</td>\n",
       "      <td>-1</td>\n",
       "      <td>0</td>\n",
       "      <td>unknown</td>\n",
       "      <td>0</td>\n",
       "    </tr>\n",
       "    <tr>\n",
       "      <th>2</th>\n",
       "      <td>33</td>\n",
       "      <td>3</td>\n",
       "      <td>2</td>\n",
       "      <td>2</td>\n",
       "      <td>0</td>\n",
       "      <td>2</td>\n",
       "      <td>1</td>\n",
       "      <td>1</td>\n",
       "      <td>unknown</td>\n",
       "      <td>5</td>\n",
       "      <td>5</td>\n",
       "      <td>76</td>\n",
       "      <td>1</td>\n",
       "      <td>-1</td>\n",
       "      <td>0</td>\n",
       "      <td>unknown</td>\n",
       "      <td>0</td>\n",
       "    </tr>\n",
       "    <tr>\n",
       "      <th>3</th>\n",
       "      <td>47</td>\n",
       "      <td>2</td>\n",
       "      <td>2</td>\n",
       "      <td>4</td>\n",
       "      <td>0</td>\n",
       "      <td>1506</td>\n",
       "      <td>1</td>\n",
       "      <td>0</td>\n",
       "      <td>unknown</td>\n",
       "      <td>5</td>\n",
       "      <td>5</td>\n",
       "      <td>92</td>\n",
       "      <td>1</td>\n",
       "      <td>-1</td>\n",
       "      <td>0</td>\n",
       "      <td>unknown</td>\n",
       "      <td>0</td>\n",
       "    </tr>\n",
       "    <tr>\n",
       "      <th>4</th>\n",
       "      <td>33</td>\n",
       "      <td>12</td>\n",
       "      <td>1</td>\n",
       "      <td>4</td>\n",
       "      <td>0</td>\n",
       "      <td>1</td>\n",
       "      <td>0</td>\n",
       "      <td>0</td>\n",
       "      <td>unknown</td>\n",
       "      <td>5</td>\n",
       "      <td>5</td>\n",
       "      <td>198</td>\n",
       "      <td>1</td>\n",
       "      <td>-1</td>\n",
       "      <td>0</td>\n",
       "      <td>unknown</td>\n",
       "      <td>0</td>\n",
       "    </tr>\n",
       "  </tbody>\n",
       "</table>\n",
       "</div>"
      ],
      "text/plain": [
       "   age  job  marital  education  default  balance  housing  loan  contact  \\\n",
       "0   58    5        2          3        0     2143        1     0  unknown   \n",
       "1   44   10        1          2        0       29        1     0  unknown   \n",
       "2   33    3        2          2        0        2        1     1  unknown   \n",
       "3   47    2        2          4        0     1506        1     0  unknown   \n",
       "4   33   12        1          4        0        1        0     0  unknown   \n",
       "\n",
       "   day  month  duration  campaign  pdays  previous poutcome  y  \n",
       "0    5      5       261         1     -1         0  unknown  0  \n",
       "1    5      5       151         1     -1         0  unknown  0  \n",
       "2    5      5        76         1     -1         0  unknown  0  \n",
       "3    5      5        92         1     -1         0  unknown  0  \n",
       "4    5      5       198         1     -1         0  unknown  0  "
      ]
     },
     "execution_count": 113,
     "metadata": {},
     "output_type": "execute_result"
    }
   ],
   "source": [
    "data.head()"
   ]
  },
  {
   "cell_type": "markdown",
   "metadata": {},
   "source": [
    "Selanjutnya, akan dilihat distribusi dari data untuk data numerik (age, balance, day)."
   ]
  },
  {
   "cell_type": "code",
   "execution_count": 114,
   "metadata": {},
   "outputs": [
    {
     "data": {
      "image/png": "[encoded data removed]",
      "text/plain": [
       "<Figure size 648x360 with 1 Axes>"
      ]
     },
     "metadata": {
      "needs_background": "light"
     },
     "output_type": "display_data"
    }
   ],
   "source": [
    "data['age'].plot(kind = 'hist', figsize=(9,5), color='cadetblue')\n",
    "\n",
    "plt.xlabel('Age')\n",
    "\n",
    "plt.show()"
   ]
  },
  {
   "cell_type": "code",
   "execution_count": 115,
   "metadata": {},
   "outputs": [
    {
     "data": {
      "image/png": "[encoded data removed]",
      "text/plain": [
       "<Figure size 690.375x216 with 1 Axes>"
      ]
     },
     "metadata": {
      "needs_background": "light"
     },
     "output_type": "display_data"
    }
   ],
   "source": [
    "facet = sns.FacetGrid(data, hue=\"y\", aspect = 3)\n",
    "facet.map(sns.kdeplot, 'age', shade=True)\n",
    "facet.set(xlim=(0, data['age'].max()))\n",
    "facet.add_legend()\n",
    "\n",
    "plt.show()"
   ]
  },
  {
   "cell_type": "markdown",
   "metadata": {},
   "source": [
    "Dari hasil di atas, terlihat bahwa data usia klien berdistribusi poisson. Adapun klien paling banyak berada pada rentang usia 30-40 tahun dengan jumlah orang yang tidak berlangganan layanan bank ini lebih banyak daripada jumlah orang yang memutuskan untuk berlangganan layanan bank."
   ]
  },
  {
   "cell_type": "code",
   "execution_count": 116,
   "metadata": {},
   "outputs": [
    {
     "data": {
      "image/png": "[encoded data removed]",
      "text/plain": [
       "<Figure size 648x360 with 1 Axes>"
      ]
     },
     "metadata": {
      "needs_background": "light"
     },
     "output_type": "display_data"
    }
   ],
   "source": [
    "data['balance'].plot(kind = 'hist', figsize=(9,5), color='cadetblue')\n",
    "\n",
    "plt.xlabel('Balance')\n",
    "\n",
    "plt.show()"
   ]
  },
  {
   "cell_type": "markdown",
   "metadata": {},
   "source": [
    "Dari hasil di atas, diketahui sebagian besar klien merupakan orang dengan balance berkisar antara 0-10000 (EUR)."
   ]
  },
  {
   "cell_type": "code",
   "execution_count": 117,
   "metadata": {},
   "outputs": [
    {
     "data": {
      "image/png": "[encoded data removed]",
      "text/plain": [
       "<Figure size 648x360 with 1 Axes>"
      ]
     },
     "metadata": {
      "needs_background": "light"
     },
     "output_type": "display_data"
    }
   ],
   "source": [
    "data['day'].plot(kind = 'hist', figsize=(9,5), color='cadetblue')\n",
    "\n",
    "plt.xlabel('Day')\n",
    "\n",
    "plt.show()"
   ]
  },
  {
   "cell_type": "markdown",
   "metadata": {},
   "source": [
    "Selanjutnya, akan dibentuk grafik batang (bar) untuk melihat kecenderungan klien dalam memutuskan apakah mereka akan bergabung menjadi nasabah bank atau tidak berdasarkan status pernikahan, pendidikan terakhir, kepemilikan pinjaman atas rumah, kepemilikan kredit tak tuntas, dan kepemilikan pinjaman atas nama pribadi."
   ]
  },
  {
   "cell_type": "code",
   "execution_count": 118,
   "metadata": {},
   "outputs": [],
   "source": [
    "def bar_chart(feature):\n",
    "    yes = data[data['y']==1][feature].value_counts()\n",
    "    no = data[data['y']==0][feature].value_counts()\n",
    "    df = pd.DataFrame([yes,no])\n",
    "    df.index = ['Yes', 'No']\n",
    "    df.plot(kind = 'bar', stacked = True, figsize = (10,5))"
   ]
  },
  {
   "cell_type": "code",
   "execution_count": 119,
   "metadata": {},
   "outputs": [
    {
     "data": {
      "image/png": "[encoded data removed]",
      "text/plain": [
       "<Figure size 720x360 with 1 Axes>"
      ]
     },
     "metadata": {
      "needs_background": "light"
     },
     "output_type": "display_data"
    }
   ],
   "source": [
    "bar_chart('marital')"
   ]
  },
  {
   "cell_type": "markdown",
   "metadata": {},
   "source": [
    "Berdasarkan status pernikahannya, baik kelompok klien yang memiliki status pernikahan belum menikah (1), sudah menikah (2), dan bercerai/janda/duda (3), semuanya memiliki kecenderungan untuk tidak bergabung menjadi nasabah bank."
   ]
  },
  {
   "cell_type": "code",
   "execution_count": 120,
   "metadata": {},
   "outputs": [
    {
     "data": {
      "image/png": "[encoded data removed]",
      "text/plain": [
       "<Figure size 720x360 with 1 Axes>"
      ]
     },
     "metadata": {
      "needs_background": "light"
     },
     "output_type": "display_data"
    }
   ],
   "source": [
    "bar_chart('education')"
   ]
  },
  {
   "cell_type": "markdown",
   "metadata": {},
   "source": [
    "Berdasarkan pendidikan terakhirnya, baik kelompok klien dengan pendidikan terakhir primary (1), secondary (2), tertiary (3), dan unknown (4), semuanya memiliki kecenderungan untuk tidak bergabung menjadi nasabah bank."
   ]
  },
  {
   "cell_type": "code",
   "execution_count": 121,
   "metadata": {},
   "outputs": [
    {
     "data": {
      "image/png": "[encoded data removed]",
      "text/plain": [
       "<Figure size 720x360 with 1 Axes>"
      ]
     },
     "metadata": {
      "needs_background": "light"
     },
     "output_type": "display_data"
    }
   ],
   "source": [
    "bar_chart('housing')"
   ]
  },
  {
   "cell_type": "markdown",
   "metadata": {},
   "source": [
    "Berdasarkan kepemilikan pinjaman atas rumah, baik kelompok klien tanpa pinjaman atas rumah (0) maupun dengan pinjaman atas rumah (1) memiliki kecenderungan untuk tidak bergabung menjadi nasabah bank."
   ]
  },
  {
   "cell_type": "code",
   "execution_count": 122,
   "metadata": {},
   "outputs": [
    {
     "data": {
      "image/png": "[encoded data removed]",
      "text/plain": [
       "<Figure size 720x360 with 1 Axes>"
      ]
     },
     "metadata": {
      "needs_background": "light"
     },
     "output_type": "display_data"
    }
   ],
   "source": [
    "bar_chart('default')"
   ]
  },
  {
   "cell_type": "markdown",
   "metadata": {},
   "source": [
    "Berdasarkan kepemilikan kredit tak tuntas, baik kelompok klien tanpa tanggungan kredit tak tuntas (0) maupun dengan tanggungan kredit tak tuntas (1) memiliki kecenderungan untuk tidak bergabung menjadi nasabah bank. Namun, perlu diperhatikan bahwa sebagian besar klien bank pada dataset merupakan orang dengan tanggungan kredit tak tuntas. Akan lebih baik jika bank bisa menarik klien lebih banyak dari kelompok orang tanpa tanggungan kredit tak tuntas sehingga data untuk fitur ini tidak bersifat bias."
   ]
  },
  {
   "cell_type": "code",
   "execution_count": 123,
   "metadata": {},
   "outputs": [
    {
     "data": {
      "image/png": "[encoded data removed]",
      "text/plain": [
       "<Figure size 720x360 with 1 Axes>"
      ]
     },
     "metadata": {
      "needs_background": "light"
     },
     "output_type": "display_data"
    }
   ],
   "source": [
    "bar_chart('loan')"
   ]
  },
  {
   "cell_type": "markdown",
   "metadata": {},
   "source": [
    "Berdasarkan kepemilikan pinjaman atas nama pribadi, baik kelompok klien tanpa pinjaman (0) maupun dengan pinjaman (1) memiliki kecenderungan untuk tidak bergabung menjadi nasabah bank. Namun, perlu diperhatikan bahwa sebagian besar klien bank pada dataset merupakan orang dengan tanggungan pinjaman atas nama pribadi. Akan lebih baik jika bank bisa menarik klien lebih banyak dari kelompok orang tanpa pinjaman atas nama pribadi sehingga data untuk fitur ini tidak bersifat bias."
   ]
  },
  {
   "cell_type": "code",
   "execution_count": 124,
   "metadata": {},
   "outputs": [
    {
     "name": "stdout",
     "output_type": "stream",
     "text": [
      "<class 'pandas.core.frame.DataFrame'>\n",
      "Int64Index: 45207 entries, 0 to 45210\n",
      "Data columns (total 17 columns):\n",
      " #   Column     Non-Null Count  Dtype   \n",
      "---  ------     --------------  -----   \n",
      " 0   age        45207 non-null  int64   \n",
      " 1   job        45207 non-null  int64   \n",
      " 2   marital    45207 non-null  int64   \n",
      " 3   education  45207 non-null  int64   \n",
      " 4   default    45207 non-null  int64   \n",
      " 5   balance    45207 non-null  int64   \n",
      " 6   housing    45207 non-null  int64   \n",
      " 7   loan       45207 non-null  int64   \n",
      " 8   contact    45207 non-null  category\n",
      " 9   day        45207 non-null  int64   \n",
      " 10  month      45207 non-null  int64   \n",
      " 11  duration   45207 non-null  int64   \n",
      " 12  campaign   45207 non-null  int64   \n",
      " 13  pdays      45207 non-null  int64   \n",
      " 14  previous   45207 non-null  int64   \n",
      " 15  poutcome   45207 non-null  category\n",
      " 16  y          45207 non-null  int64   \n",
      "dtypes: category(2), int64(15)\n",
      "memory usage: 5.6 MB\n"
     ]
    }
   ],
   "source": [
    "data.info()"
   ]
  },
  {
   "cell_type": "markdown",
   "metadata": {},
   "source": [
    "## Data Preparation"
   ]
  },
  {
   "cell_type": "markdown",
   "metadata": {},
   "source": [
    "Siapkan data: data training dan data testing."
   ]
  },
  {
   "cell_type": "code",
   "execution_count": 125,
   "metadata": {},
   "outputs": [],
   "source": [
    "data = data.drop(columns=['contact','poutcome'])"
   ]
  },
  {
   "cell_type": "markdown",
   "metadata": {},
   "source": [
    "Fitur contact dihapus karena media kontak (cellular, telephone) tidak memiliki pengaruh terhadap keputusan klien untuk bergabung menjadi nasabah bank atau tidak. Selanjutnya, set data training dan data testing."
   ]
  },
  {
   "cell_type": "code",
   "execution_count": 126,
   "metadata": {},
   "outputs": [],
   "source": [
    "X = data.drop('y', axis=1)\n",
    "y = data['y']\n",
    "\n",
    "X_train, X_test, y_train, y_test = train_test_split(X, y, test_size = 0.25, random_state =1)"
   ]
  },
  {
   "cell_type": "markdown",
   "metadata": {},
   "source": [
    "# Logistic Regression"
   ]
  },
  {
   "cell_type": "markdown",
   "metadata": {},
   "source": [
    "Lakukan konstruksi model Regresi Logistik dan training model."
   ]
  },
  {
   "cell_type": "code",
   "execution_count": 127,
   "metadata": {},
   "outputs": [
    {
     "name": "stderr",
     "output_type": "stream",
     "text": [
      "C:\\ProgramData\\Anaconda3\\lib\\site-packages\\sklearn\\linear_model\\_logistic.py:762: ConvergenceWarning: lbfgs failed to converge (status=1):\n",
      "STOP: TOTAL NO. of ITERATIONS REACHED LIMIT.\n",
      "\n",
      "Increase the number of iterations (max_iter) or scale the data as shown in:\n",
      "    https://scikit-learn.org/stable/modules/preprocessing.html\n",
      "Please also refer to the documentation for alternative solver options:\n",
      "    https://scikit-learn.org/stable/modules/linear_model.html#logistic-regression\n",
      "  n_iter_i = _check_optimize_result(\n"
     ]
    },
    {
     "data": {
      "text/plain": [
       "LogisticRegression()"
      ]
     },
     "execution_count": 127,
     "metadata": {},
     "output_type": "execute_result"
    }
   ],
   "source": [
    "lr = LogisticRegression()\n",
    "lr.fit(X_train,y_train)"
   ]
  },
  {
   "cell_type": "markdown",
   "metadata": {},
   "source": [
    "Hitung skor akurasi pada training data."
   ]
  },
  {
   "cell_type": "code",
   "execution_count": 128,
   "metadata": {},
   "outputs": [
    {
     "name": "stdout",
     "output_type": "stream",
     "text": [
      "0.8869488276065477\n"
     ]
    }
   ],
   "source": [
    "lr_score_train = lr.score(X_train,y_train)\n",
    "print(lr_score_train)"
   ]
  },
  {
   "cell_type": "markdown",
   "metadata": {},
   "source": [
    "Dari hasil di atas, didapatkan akurasi model regresi logistik pada data training adalah 88.7%. Selanjutnya, implementasikan model pada data testing dan hitung skor akurasinya."
   ]
  },
  {
   "cell_type": "code",
   "execution_count": 129,
   "metadata": {},
   "outputs": [
    {
     "name": "stderr",
     "output_type": "stream",
     "text": [
      "C:\\ProgramData\\Anaconda3\\lib\\site-packages\\sklearn\\linear_model\\_logistic.py:762: ConvergenceWarning: lbfgs failed to converge (status=1):\n",
      "STOP: TOTAL NO. of ITERATIONS REACHED LIMIT.\n",
      "\n",
      "Increase the number of iterations (max_iter) or scale the data as shown in:\n",
      "    https://scikit-learn.org/stable/modules/preprocessing.html\n",
      "Please also refer to the documentation for alternative solver options:\n",
      "    https://scikit-learn.org/stable/modules/linear_model.html#logistic-regression\n",
      "  n_iter_i = _check_optimize_result(\n"
     ]
    },
    {
     "data": {
      "text/plain": [
       "LogisticRegression()"
      ]
     },
     "execution_count": 129,
     "metadata": {},
     "output_type": "execute_result"
    }
   ],
   "source": [
    "lr.fit(X_test,y_test)"
   ]
  },
  {
   "cell_type": "code",
   "execution_count": 130,
   "metadata": {},
   "outputs": [
    {
     "name": "stdout",
     "output_type": "stream",
     "text": [
      "0.8844452309325783\n"
     ]
    }
   ],
   "source": [
    "lr_score_test = lr.score(X_test,y_test)\n",
    "print(lr_score_test)"
   ]
  },
  {
   "cell_type": "code",
   "execution_count": 131,
   "metadata": {},
   "outputs": [],
   "source": [
    "lr_pred = lr.predict(X_test)"
   ]
  },
  {
   "cell_type": "code",
   "execution_count": 132,
   "metadata": {},
   "outputs": [
    {
     "name": "stdout",
     "output_type": "stream",
     "text": [
      "              precision    recall  f1-score   support\n",
      "\n",
      "           0       0.98      0.90      0.94     10922\n",
      "           1       0.15      0.53      0.24       380\n",
      "\n",
      "    accuracy                           0.88     11302\n",
      "   macro avg       0.57      0.71      0.59     11302\n",
      "weighted avg       0.95      0.88      0.91     11302\n",
      "\n"
     ]
    }
   ],
   "source": [
    "print(classification_report(lr_pred,y_test))"
   ]
  },
  {
   "cell_type": "markdown",
   "metadata": {},
   "source": [
    "Berdasarkan hasil dan tabel classification_report di atas, didapatkan hasil akurasi model yang cukup baik yaitu 89%. Akan tetapi, hasil precision, recall, dan f1-score untuk kelas 'yes' (subscribe) masih kurang baik."
   ]
  },
  {
   "cell_type": "markdown",
   "metadata": {},
   "source": [
    "# kNN"
   ]
  },
  {
   "cell_type": "markdown",
   "metadata": {},
   "source": [
    "Lakukan konstruksi model kNN dan training model."
   ]
  },
  {
   "cell_type": "code",
   "execution_count": 133,
   "metadata": {},
   "outputs": [
    {
     "data": {
      "text/plain": [
       "KNeighborsClassifier()"
      ]
     },
     "execution_count": 133,
     "metadata": {},
     "output_type": "execute_result"
    }
   ],
   "source": [
    "knn = KNeighborsClassifier()\n",
    "knn.fit(X_train,y_train)"
   ]
  },
  {
   "cell_type": "markdown",
   "metadata": {},
   "source": [
    "Hitung skor akurasi pada training data."
   ]
  },
  {
   "cell_type": "code",
   "execution_count": 134,
   "metadata": {},
   "outputs": [
    {
     "name": "stdout",
     "output_type": "stream",
     "text": [
      "0.9103377083026102\n"
     ]
    }
   ],
   "source": [
    "knn_score_train = knn.score(X_train, y_train)\n",
    "print(knn_score_train)"
   ]
  },
  {
   "cell_type": "markdown",
   "metadata": {},
   "source": [
    "Dari hasil di atas, didapatkan akurasi model kNN pada data training adalah 88.62%. Selanjutnya, implementasikan model pada data testing dan hitung skor akurasinya."
   ]
  },
  {
   "cell_type": "code",
   "execution_count": 135,
   "metadata": {},
   "outputs": [
    {
     "data": {
      "text/plain": [
       "KNeighborsClassifier()"
      ]
     },
     "execution_count": 135,
     "metadata": {},
     "output_type": "execute_result"
    }
   ],
   "source": [
    "knn.fit(X_test,y_test)"
   ]
  },
  {
   "cell_type": "code",
   "execution_count": 136,
   "metadata": {},
   "outputs": [
    {
     "name": "stdout",
     "output_type": "stream",
     "text": [
      "0.9073615289329322\n"
     ]
    }
   ],
   "source": [
    "knn_score_test = knn.score(X_test, y_test)\n",
    "print(knn_score_test)"
   ]
  },
  {
   "cell_type": "code",
   "execution_count": 137,
   "metadata": {},
   "outputs": [],
   "source": [
    "knn_pred = knn.predict(X_test)"
   ]
  },
  {
   "cell_type": "code",
   "execution_count": 138,
   "metadata": {},
   "outputs": [
    {
     "name": "stdout",
     "output_type": "stream",
     "text": [
      "              precision    recall  f1-score   support\n",
      "\n",
      "           0       0.98      0.92      0.95     10565\n",
      "           1       0.38      0.69      0.49       737\n",
      "\n",
      "    accuracy                           0.91     11302\n",
      "   macro avg       0.68      0.81      0.72     11302\n",
      "weighted avg       0.94      0.91      0.92     11302\n",
      "\n"
     ]
    }
   ],
   "source": [
    "print(classification_report(knn_pred,y_test))"
   ]
  },
  {
   "cell_type": "markdown",
   "metadata": {},
   "source": [
    "Berdasarkan hasil dan tabel classification_report di atas, didapatkan hasil akurasi model yang cukup baik yaitu 91%. Akan tetapi, hasil precision, recall, dan f1-score untuk kelas 'yes' (subscribe) masih kurang baik."
   ]
  },
  {
   "cell_type": "markdown",
   "metadata": {},
   "source": [
    "# SVM"
   ]
  },
  {
   "cell_type": "markdown",
   "metadata": {},
   "source": [
    "Lakukan konstruksi model SVM dan training model."
   ]
  },
  {
   "cell_type": "code",
   "execution_count": 139,
   "metadata": {},
   "outputs": [
    {
     "name": "stderr",
     "output_type": "stream",
     "text": [
      "C:\\ProgramData\\Anaconda3\\lib\\site-packages\\sklearn\\svm\\_base.py:976: ConvergenceWarning: Liblinear failed to converge, increase the number of iterations.\n",
      "  warnings.warn(\"Liblinear failed to converge, increase \"\n"
     ]
    },
    {
     "data": {
      "text/plain": [
       "LinearSVC()"
      ]
     },
     "execution_count": 139,
     "metadata": {},
     "output_type": "execute_result"
    }
   ],
   "source": [
    "svm = LinearSVC()\n",
    "svm.fit(X_train,y_train)"
   ]
  },
  {
   "cell_type": "markdown",
   "metadata": {},
   "source": [
    "Hitung skor akurasi pada training data."
   ]
  },
  {
   "cell_type": "code",
   "execution_count": 140,
   "metadata": {},
   "outputs": [
    {
     "name": "stdout",
     "output_type": "stream",
     "text": [
      "0.8039817136115617\n"
     ]
    }
   ],
   "source": [
    "svm_score_train = svm.score(X_train, y_train)\n",
    "print(svm_score_train)"
   ]
  },
  {
   "cell_type": "markdown",
   "metadata": {},
   "source": [
    "Dari hasil di atas, didapatkan akurasi model SVM pada data training adalah 88.09%. Selanjutnya, implementasikan model pada data testing dan hitung skor akurasinya."
   ]
  },
  {
   "cell_type": "code",
   "execution_count": 141,
   "metadata": {},
   "outputs": [
    {
     "name": "stderr",
     "output_type": "stream",
     "text": [
      "C:\\ProgramData\\Anaconda3\\lib\\site-packages\\sklearn\\svm\\_base.py:976: ConvergenceWarning: Liblinear failed to converge, increase the number of iterations.\n",
      "  warnings.warn(\"Liblinear failed to converge, increase \"\n"
     ]
    },
    {
     "data": {
      "text/plain": [
       "LinearSVC()"
      ]
     },
     "execution_count": 141,
     "metadata": {},
     "output_type": "execute_result"
    }
   ],
   "source": [
    "svm.fit(X_test,y_test)"
   ]
  },
  {
   "cell_type": "code",
   "execution_count": 142,
   "metadata": {},
   "outputs": [
    {
     "name": "stdout",
     "output_type": "stream",
     "text": [
      "0.5819324013448947\n"
     ]
    }
   ],
   "source": [
    "svm_score_test = svm.score(X_test, y_test)\n",
    "print(svm_score_test)"
   ]
  },
  {
   "cell_type": "code",
   "execution_count": 143,
   "metadata": {},
   "outputs": [
    {
     "name": "stdout",
     "output_type": "stream",
     "text": [
      "              precision    recall  f1-score   support\n",
      "\n",
      "           0       0.54      0.98      0.69      5477\n",
      "           1       0.91      0.21      0.34      5825\n",
      "\n",
      "    accuracy                           0.58     11302\n",
      "   macro avg       0.73      0.59      0.52     11302\n",
      "weighted avg       0.73      0.58      0.51     11302\n",
      "\n"
     ]
    }
   ],
   "source": [
    "svm_pred = svm.predict(X_test)\n",
    "print(classification_report(svm_pred,y_test))"
   ]
  },
  {
   "cell_type": "markdown",
   "metadata": {},
   "source": [
    "Berdasarkan hasil dan tabel classification_report di atas, didapatkan hasil akurasi model yang cukup baik yaitu 88%. Akan tetapi, hasil precision, recall, dan f1-score untuk kelas 'yes' (subscribe) masih kurang baik."
   ]
  },
  {
   "cell_type": "markdown",
   "metadata": {},
   "source": [
    "# Decision Tree"
   ]
  },
  {
   "cell_type": "markdown",
   "metadata": {},
   "source": [
    "Lakukan konstruksi model Decision Tree dan training model."
   ]
  },
  {
   "cell_type": "code",
   "execution_count": 144,
   "metadata": {},
   "outputs": [
    {
     "data": {
      "text/plain": [
       "DecisionTreeClassifier()"
      ]
     },
     "execution_count": 144,
     "metadata": {},
     "output_type": "execute_result"
    }
   ],
   "source": [
    "dt = DecisionTreeClassifier()\n",
    "dt.fit(X_train, y_train)"
   ]
  },
  {
   "cell_type": "markdown",
   "metadata": {},
   "source": [
    "Hitung skor akurasi pada training data."
   ]
  },
  {
   "cell_type": "code",
   "execution_count": 145,
   "metadata": {},
   "outputs": [
    {
     "name": "stdout",
     "output_type": "stream",
     "text": [
      "1.0\n"
     ]
    }
   ],
   "source": [
    "dt_score_train = dt.score(X_train, y_train)\n",
    "print(dt_score_train)"
   ]
  },
  {
   "cell_type": "markdown",
   "metadata": {},
   "source": [
    "Dari hasil di atas, didapatkan akurasi model decision tree pada data training adalah 100%. Selanjutnya, implementasikan model pada data testing dan hitung skor akurasinya."
   ]
  },
  {
   "cell_type": "code",
   "execution_count": 146,
   "metadata": {},
   "outputs": [
    {
     "data": {
      "text/plain": [
       "DecisionTreeClassifier()"
      ]
     },
     "execution_count": 146,
     "metadata": {},
     "output_type": "execute_result"
    }
   ],
   "source": [
    "dt.fit(X_test,y_test)"
   ]
  },
  {
   "cell_type": "code",
   "execution_count": 147,
   "metadata": {},
   "outputs": [
    {
     "name": "stdout",
     "output_type": "stream",
     "text": [
      "1.0\n"
     ]
    }
   ],
   "source": [
    "dt_score_test = dt.score(X_test,y_test)\n",
    "print(dt_score_test)"
   ]
  },
  {
   "cell_type": "code",
   "execution_count": 148,
   "metadata": {},
   "outputs": [],
   "source": [
    "dt_pred = dt.predict(X_test)"
   ]
  },
  {
   "cell_type": "code",
   "execution_count": 149,
   "metadata": {},
   "outputs": [
    {
     "name": "stdout",
     "output_type": "stream",
     "text": [
      "              precision    recall  f1-score   support\n",
      "\n",
      "           0       1.00      1.00      1.00      9974\n",
      "           1       1.00      1.00      1.00      1328\n",
      "\n",
      "    accuracy                           1.00     11302\n",
      "   macro avg       1.00      1.00      1.00     11302\n",
      "weighted avg       1.00      1.00      1.00     11302\n",
      "\n"
     ]
    }
   ],
   "source": [
    "print(classification_report(dt_pred,y_test))"
   ]
  },
  {
   "cell_type": "markdown",
   "metadata": {},
   "source": [
    "Berdasarkan hasil dan tabel classification_report di atas, didapatkan hasil akurasi model yang cukup baik yaitu 100%. Di bawah ini, akan diperiksa dan dianalisis fitur mana saja yang sekiranya memiliki pengaruh paling besar pada model."
   ]
  },
  {
   "cell_type": "code",
   "execution_count": 150,
   "metadata": {},
   "outputs": [
    {
     "name": "stdout",
     "output_type": "stream",
     "text": [
      "      Feature  Feature Importances\n",
      "0         age             0.125261\n",
      "1         job             0.044601\n",
      "2     marital             0.021975\n",
      "3   education             0.031175\n",
      "4     default             0.000874\n",
      "5     balance             0.103029\n",
      "6     housing             0.051629\n",
      "7        loan             0.011093\n",
      "8         day             0.096400\n",
      "9       month             0.081889\n",
      "10   duration             0.309566\n",
      "11   campaign             0.035549\n",
      "12      pdays             0.073010\n",
      "13   previous             0.013950\n"
     ]
    }
   ],
   "source": [
    "feature_imp = {'Feature': list(data.drop(columns='y').columns), 'Feature Importances': list(dt.feature_importances_)}\n",
    "feature_imp = pd.DataFrame(feature_imp)\n",
    "print(feature_imp)"
   ]
  },
  {
   "cell_type": "markdown",
   "metadata": {},
   "source": [
    "Berdasarkan hasil di atas, 5 fitur dengan skor feature importances tertinggi secara berurutan adalah duration, balance, age, pdays, dan month. Adapun fitur dengan skor feature importances terendah adalah default."
   ]
  },
  {
   "cell_type": "markdown",
   "metadata": {},
   "source": [
    "# Random Forest"
   ]
  },
  {
   "cell_type": "markdown",
   "metadata": {},
   "source": [
    "Lakukan konstruksi model Random Forest dan training model."
   ]
  },
  {
   "cell_type": "code",
   "execution_count": 151,
   "metadata": {},
   "outputs": [
    {
     "data": {
      "text/plain": [
       "RandomForestClassifier()"
      ]
     },
     "execution_count": 151,
     "metadata": {},
     "output_type": "execute_result"
    }
   ],
   "source": [
    "rf = RandomForestClassifier()\n",
    "rf.fit(X_train, y_train)"
   ]
  },
  {
   "cell_type": "markdown",
   "metadata": {},
   "source": [
    "Hitung skor akurasi pada training data."
   ]
  },
  {
   "cell_type": "code",
   "execution_count": 152,
   "metadata": {},
   "outputs": [
    {
     "name": "stdout",
     "output_type": "stream",
     "text": [
      "1.0\n"
     ]
    }
   ],
   "source": [
    "rf_score_train = rf.score(X_train, y_train)\n",
    "print(rf_score_train)"
   ]
  },
  {
   "cell_type": "markdown",
   "metadata": {},
   "source": [
    "Dari hasil di atas, didapatkan akurasi model random forest pada data training adalah 100%. Selanjutnya, implementasikan model pada data testing dan hitung skor akurasinya."
   ]
  },
  {
   "cell_type": "code",
   "execution_count": 153,
   "metadata": {},
   "outputs": [
    {
     "data": {
      "text/plain": [
       "RandomForestClassifier()"
      ]
     },
     "execution_count": 153,
     "metadata": {},
     "output_type": "execute_result"
    }
   ],
   "source": [
    "rf.fit(X_test,y_test)"
   ]
  },
  {
   "cell_type": "code",
   "execution_count": 154,
   "metadata": {},
   "outputs": [
    {
     "name": "stdout",
     "output_type": "stream",
     "text": [
      "0.9999115200849407\n"
     ]
    }
   ],
   "source": [
    "rf_score_test = rf.score(X_test, y_test)\n",
    "print(rf_score_test)"
   ]
  },
  {
   "cell_type": "code",
   "execution_count": 155,
   "metadata": {},
   "outputs": [],
   "source": [
    "rf_pred = rf.predict(X_test)"
   ]
  },
  {
   "cell_type": "code",
   "execution_count": 156,
   "metadata": {},
   "outputs": [
    {
     "name": "stdout",
     "output_type": "stream",
     "text": [
      "              precision    recall  f1-score   support\n",
      "\n",
      "           0       1.00      1.00      1.00      9975\n",
      "           1       1.00      1.00      1.00      1327\n",
      "\n",
      "    accuracy                           1.00     11302\n",
      "   macro avg       1.00      1.00      1.00     11302\n",
      "weighted avg       1.00      1.00      1.00     11302\n",
      "\n"
     ]
    }
   ],
   "source": [
    "print(classification_report(rf_pred,y_test))"
   ]
  },
  {
   "cell_type": "markdown",
   "metadata": {},
   "source": [
    "Berdasarkan hasil dan tabel classification_report di atas, didapatkan hasil akurasi model yang cukup baik yaitu 100%. Sekarang, akan dicoba menggunakan Grid Search untuk menentukan parameter terbaik bagi model dan Cross Validation untuk memaksimalkan performa model."
   ]
  },
  {
   "cell_type": "code",
   "execution_count": 72,
   "metadata": {},
   "outputs": [
    {
     "name": "stdout",
     "output_type": "stream",
     "text": [
      "100.0\n"
     ]
    }
   ],
   "source": [
    "param_grid = {'n_estimators': [10,20,30,40,50,60,70,80,90,100],\n",
    "            'criterion': ['gini', 'entropy'],\n",
    "            'max_features': ['auto', 'sqrt', 'log2']}\n",
    "rf = RandomForestClassifier()\n",
    "grid_rf = GridSearchCV(rf, param_grid=param_grid, scoring='accuracy')\n",
    "# recall binary\n",
    "\n",
    "grid_rf.fit(X_train, y_train)\n",
    "rf_score_train = grid_rf.score(X_train,y_train)\n",
    "print(round(rf_score_train*100, 2))"
   ]
  },
  {
   "cell_type": "code",
   "execution_count": 73,
   "metadata": {},
   "outputs": [],
   "source": [
    "rf_pred = grid_rf.predict(X_test)"
   ]
  },
  {
   "cell_type": "code",
   "execution_count": 74,
   "metadata": {},
   "outputs": [
    {
     "data": {
      "text/plain": [
       "{'criterion': 'gini', 'max_features': 'sqrt', 'n_estimators': 80}"
      ]
     },
     "execution_count": 74,
     "metadata": {},
     "output_type": "execute_result"
    }
   ],
   "source": [
    "grid_rf.best_params_"
   ]
  },
  {
   "cell_type": "markdown",
   "metadata": {},
   "source": [
    "Didapatkan parameter terbaik yang dapat memaksimalkan performa model untuk data Portuguese Bank ini adalah\n",
    "- criterion: 'gini'\n",
    "- max_features: 'sqrt'\n",
    "- n_estimators: 80"
   ]
  },
  {
   "cell_type": "code",
   "execution_count": 84,
   "metadata": {},
   "outputs": [
    {
     "name": "stdout",
     "output_type": "stream",
     "text": [
      "              precision    recall  f1-score   support\n",
      "\n",
      "           0       0.97      0.92      0.95     10485\n",
      "           1       0.39      0.63      0.48       817\n",
      "\n",
      "    accuracy                           0.90     11302\n",
      "   macro avg       0.68      0.78      0.71     11302\n",
      "weighted avg       0.93      0.90      0.91     11302\n",
      "\n"
     ]
    }
   ],
   "source": [
    "print(classification_report(rf_pred, y_test))"
   ]
  },
  {
   "cell_type": "markdown",
   "metadata": {},
   "source": [
    "Berdasarkan *classification report*, hasil yang didapat untuk skor akurasi masih baik. Namun, untuk precision, recall, dan f1-score kelas 1 ('yes') masih kurang baik."
   ]
  },
  {
   "cell_type": "markdown",
   "metadata": {},
   "source": [
    "Sekarang, implementasikan parameter terbaik yang telah didapat untuk melakukan Cross Validation."
   ]
  },
  {
   "cell_type": "code",
   "execution_count": 81,
   "metadata": {},
   "outputs": [
    {
     "name": "stdout",
     "output_type": "stream",
     "text": [
      "              precision    recall  f1-score   support\n",
      "\n",
      "           0       0.97      0.92      0.95      4189\n",
      "           1       0.41      0.67      0.51       332\n",
      "\n",
      "    accuracy                           0.90      4521\n",
      "   macro avg       0.69      0.80      0.73      4521\n",
      "weighted avg       0.93      0.90      0.91      4521\n",
      "\n",
      "              precision    recall  f1-score   support\n",
      "\n",
      "           0       0.97      0.92      0.94      4199\n",
      "           1       0.38      0.64      0.47       322\n",
      "\n",
      "    accuracy                           0.90      4521\n",
      "   macro avg       0.67      0.78      0.71      4521\n",
      "weighted avg       0.93      0.90      0.91      4521\n",
      "\n",
      "              precision    recall  f1-score   support\n",
      "\n",
      "           0       0.97      0.93      0.95      4187\n",
      "           1       0.41      0.65      0.51       334\n",
      "\n",
      "    accuracy                           0.91      4521\n",
      "   macro avg       0.69      0.79      0.73      4521\n",
      "weighted avg       0.93      0.91      0.92      4521\n",
      "\n",
      "              precision    recall  f1-score   support\n",
      "\n",
      "           0       0.97      0.93      0.95      4228\n",
      "           1       0.37      0.61      0.46       293\n",
      "\n",
      "    accuracy                           0.91      4521\n",
      "   macro avg       0.67      0.77      0.70      4521\n",
      "weighted avg       0.93      0.91      0.92      4521\n",
      "\n",
      "              precision    recall  f1-score   support\n",
      "\n",
      "           0       0.97      0.92      0.95      4192\n",
      "           1       0.39      0.62      0.48       329\n",
      "\n",
      "    accuracy                           0.90      4521\n",
      "   macro avg       0.68      0.77      0.71      4521\n",
      "weighted avg       0.93      0.90      0.91      4521\n",
      "\n",
      "              precision    recall  f1-score   support\n",
      "\n",
      "           0       0.97      0.92      0.94      4226\n",
      "           1       0.33      0.58      0.42       295\n",
      "\n",
      "    accuracy                           0.90      4521\n",
      "   macro avg       0.65      0.75      0.68      4521\n",
      "weighted avg       0.93      0.90      0.91      4521\n",
      "\n",
      "              precision    recall  f1-score   support\n",
      "\n",
      "           0       0.97      0.92      0.94      4212\n",
      "           1       0.34      0.59      0.43       309\n",
      "\n",
      "    accuracy                           0.90      4521\n",
      "   macro avg       0.66      0.75      0.69      4521\n",
      "weighted avg       0.93      0.90      0.91      4521\n",
      "\n",
      "              precision    recall  f1-score   support\n",
      "\n",
      "           0       0.97      0.91      0.94      4193\n",
      "           1       0.36      0.61      0.45       327\n",
      "\n",
      "    accuracy                           0.89      4520\n",
      "   macro avg       0.66      0.76      0.69      4520\n",
      "weighted avg       0.92      0.89      0.90      4520\n",
      "\n",
      "              precision    recall  f1-score   support\n",
      "\n",
      "           0       0.97      0.91      0.94      4210\n",
      "           1       0.35      0.63      0.45       310\n",
      "\n",
      "    accuracy                           0.89      4520\n",
      "   macro avg       0.66      0.77      0.69      4520\n",
      "weighted avg       0.93      0.89      0.91      4520\n",
      "\n",
      "              precision    recall  f1-score   support\n",
      "\n",
      "           0       0.97      0.93      0.95      4187\n",
      "           1       0.40      0.61      0.48       333\n",
      "\n",
      "    accuracy                           0.90      4520\n",
      "   macro avg       0.68      0.77      0.72      4520\n",
      "weighted avg       0.93      0.90      0.91      4520\n",
      "\n"
     ]
    }
   ],
   "source": [
    "kf = KFold(n_splits = 10, shuffle=True, random_state = 0)\n",
    "kf.get_n_splits(X)\n",
    "\n",
    "rf = RandomForestClassifier(n_estimators= 80, criterion='gini', max_features='sqrt')\n",
    "\n",
    "for train_index, test_index in kf.split(X):\n",
    "    X_train, X_test = X.iloc[train_index], X.iloc[test_index]\n",
    "    y_train, y_test = y.iloc[train_index], y.iloc[test_index]\n",
    "    rf.fit(X_train, y_train)\n",
    "    y_pred = rf.predict(X_test)\n",
    "    print(classification_report(y_pred, y_test))"
   ]
  },
  {
   "cell_type": "markdown",
   "metadata": {},
   "source": [
    "Berdasarkan *classification report*, hasil yang didapat untuk skor akurasi masih baik. Namun, untuk precision, recall, dan f1-score kelas 1 ('yes') masih kurang baik."
   ]
  },
  {
   "cell_type": "markdown",
   "metadata": {},
   "source": [
    "# Naive Bayes"
   ]
  },
  {
   "cell_type": "markdown",
   "metadata": {},
   "source": [
    "Lakukan konstruksi model naive bayes dan training model."
   ]
  },
  {
   "cell_type": "code",
   "execution_count": 157,
   "metadata": {},
   "outputs": [
    {
     "data": {
      "text/plain": [
       "GaussianNB()"
      ]
     },
     "execution_count": 157,
     "metadata": {},
     "output_type": "execute_result"
    }
   ],
   "source": [
    "nb = GaussianNB()\n",
    "nb.fit(X_train, y_train)"
   ]
  },
  {
   "cell_type": "markdown",
   "metadata": {},
   "source": [
    "Hitung skor akurasi pada training data."
   ]
  },
  {
   "cell_type": "code",
   "execution_count": 158,
   "metadata": {},
   "outputs": [
    {
     "name": "stdout",
     "output_type": "stream",
     "text": [
      "0.8648871847810058\n"
     ]
    }
   ],
   "source": [
    "nb_score_train = nb.score(X_train, y_train)\n",
    "print(nb_score_train)"
   ]
  },
  {
   "cell_type": "markdown",
   "metadata": {},
   "source": [
    "Dari hasil di atas, didapatkan akurasi model naive bayes pada data training adalah 86.25%. Selanjutnya, implementasikan model pada data testing dan hitung skor akurasinya."
   ]
  },
  {
   "cell_type": "code",
   "execution_count": 159,
   "metadata": {},
   "outputs": [
    {
     "data": {
      "text/plain": [
       "GaussianNB()"
      ]
     },
     "execution_count": 159,
     "metadata": {},
     "output_type": "execute_result"
    }
   ],
   "source": [
    "nb.fit(X_test,y_test)"
   ]
  },
  {
   "cell_type": "code",
   "execution_count": 160,
   "metadata": {},
   "outputs": [
    {
     "name": "stdout",
     "output_type": "stream",
     "text": [
      "0.8694921252875597\n"
     ]
    }
   ],
   "source": [
    "nb_score_test = nb.score(X_test, y_test)\n",
    "print(nb_score_test)"
   ]
  },
  {
   "cell_type": "code",
   "execution_count": 161,
   "metadata": {},
   "outputs": [],
   "source": [
    "nb_pred = nb.predict(X_test)"
   ]
  },
  {
   "cell_type": "code",
   "execution_count": 162,
   "metadata": {},
   "outputs": [
    {
     "name": "stdout",
     "output_type": "stream",
     "text": [
      "              precision    recall  f1-score   support\n",
      "\n",
      "           0       0.93      0.92      0.93     10079\n",
      "           1       0.41      0.44      0.42      1223\n",
      "\n",
      "    accuracy                           0.87     11302\n",
      "   macro avg       0.67      0.68      0.67     11302\n",
      "weighted avg       0.87      0.87      0.87     11302\n",
      "\n"
     ]
    }
   ],
   "source": [
    "print(classification_report(nb_pred,y_test))"
   ]
  },
  {
   "cell_type": "markdown",
   "metadata": {},
   "source": [
    "Berdasarkan hasil dan tabel classification_report di atas, didapatkan hasil akurasi model yang cukup baik yaitu 87%. Akan tetapi, hasil precision, recall, dan f1-score untuk kelas 'yes' (subscribe) masih kurang baik."
   ]
  },
  {
   "cell_type": "markdown",
   "metadata": {},
   "source": [
    "Sekarang, akan dicoba menggunakan Grid Search untuk menentukan parameter terbaik bagi model dan Cross Validation untuk memaksimalkan performa model."
   ]
  },
  {
   "cell_type": "code",
   "execution_count": 163,
   "metadata": {},
   "outputs": [
    {
     "name": "stdout",
     "output_type": "stream",
     "text": [
      "88.23\n"
     ]
    }
   ],
   "source": [
    "param_grid = {'var_smoothing': np.logspace(0,-9, num=100)}\n",
    "nb = GaussianNB()\n",
    "grid_nb = GridSearchCV(nb, param_grid=param_grid, scoring='accuracy')\n",
    "# recall binary\n",
    "\n",
    "grid_nb.fit(X_train, y_train)\n",
    "nb_score_train = grid_nb.score(X_train,y_train)\n",
    "print(round(nb_score_train*100, 2))"
   ]
  },
  {
   "cell_type": "markdown",
   "metadata": {},
   "source": [
    "Berdasarkan hasil di atas, didapat skor akurasi training model yang lebih baik, yaitu 88%. Selanjutnya, implementasikan model pada data test."
   ]
  },
  {
   "cell_type": "code",
   "execution_count": 164,
   "metadata": {},
   "outputs": [
    {
     "name": "stdout",
     "output_type": "stream",
     "text": [
      "              precision    recall  f1-score   support\n",
      "\n",
      "           0       0.97      0.90      0.93     10707\n",
      "           1       0.21      0.46      0.29       595\n",
      "\n",
      "    accuracy                           0.88     11302\n",
      "   macro avg       0.59      0.68      0.61     11302\n",
      "weighted avg       0.93      0.88      0.90     11302\n",
      "\n"
     ]
    }
   ],
   "source": [
    "nb_pred = grid_nb.predict(X_test)\n",
    "print(classification_report(nb_pred,y_test))"
   ]
  },
  {
   "cell_type": "markdown",
   "metadata": {},
   "source": [
    "Berdasarkan hasil dan tabel *classification_report* di atas, didapatkan hasil akurasi model yang cukup baik yaitu 88%. Akan tetapi, hasil precision, recall, dan f1-score untuk kelas 'yes' (subscribe) masih kurang baik."
   ]
  },
  {
   "cell_type": "code",
   "execution_count": 165,
   "metadata": {},
   "outputs": [
    {
     "data": {
      "text/plain": [
       "{'var_smoothing': 0.0015199110829529332}"
      ]
     },
     "execution_count": 165,
     "metadata": {},
     "output_type": "execute_result"
    }
   ],
   "source": [
    "grid_nb.best_params_"
   ]
  },
  {
   "cell_type": "markdown",
   "metadata": {},
   "source": [
    "Adapun parameter terbaik untuk digunakan model ini dalam memprediksi dataset Portuguese Bank adalah *var_smoothing: 0.0015199110829529332.*\n",
    "\n",
    "Selanjutnya, implementasikan parameter terbaik yang telah didapat untuk melakukan Cross Validation."
   ]
  },
  {
   "cell_type": "code",
   "execution_count": 166,
   "metadata": {},
   "outputs": [
    {
     "name": "stdout",
     "output_type": "stream",
     "text": [
      "              precision    recall  f1-score   support\n",
      "\n",
      "           0       0.97      0.90      0.93      4291\n",
      "           1       0.21      0.51      0.30       230\n",
      "\n",
      "    accuracy                           0.88      4521\n",
      "   macro avg       0.59      0.71      0.62      4521\n",
      "weighted avg       0.93      0.88      0.90      4521\n",
      "\n",
      "              precision    recall  f1-score   support\n",
      "\n",
      "           0       0.97      0.90      0.94      4263\n",
      "           1       0.25      0.53      0.34       258\n",
      "\n",
      "    accuracy                           0.88      4521\n",
      "   macro avg       0.61      0.72      0.64      4521\n",
      "weighted avg       0.93      0.88      0.90      4521\n",
      "\n",
      "              precision    recall  f1-score   support\n",
      "\n",
      "           0       0.97      0.91      0.94      4267\n",
      "           1       0.26      0.52      0.34       254\n",
      "\n",
      "    accuracy                           0.89      4521\n",
      "   macro avg       0.61      0.72      0.64      4521\n",
      "weighted avg       0.93      0.89      0.90      4521\n",
      "\n",
      "              precision    recall  f1-score   support\n",
      "\n",
      "           0       0.97      0.91      0.94      4302\n",
      "           1       0.23      0.51      0.31       219\n",
      "\n",
      "    accuracy                           0.89      4521\n",
      "   macro avg       0.60      0.71      0.63      4521\n",
      "weighted avg       0.94      0.89      0.91      4521\n",
      "\n",
      "              precision    recall  f1-score   support\n",
      "\n",
      "           0       0.97      0.90      0.94      4284\n",
      "           1       0.22      0.50      0.31       237\n",
      "\n",
      "    accuracy                           0.88      4521\n",
      "   macro avg       0.60      0.70      0.62      4521\n",
      "weighted avg       0.93      0.88      0.90      4521\n",
      "\n",
      "              precision    recall  f1-score   support\n",
      "\n",
      "           0       0.97      0.90      0.93      4299\n",
      "           1       0.19      0.43      0.26       222\n",
      "\n",
      "    accuracy                           0.88      4521\n",
      "   macro avg       0.58      0.67      0.60      4521\n",
      "weighted avg       0.93      0.88      0.90      4521\n",
      "\n",
      "              precision    recall  f1-score   support\n",
      "\n",
      "           0       0.97      0.90      0.93      4313\n",
      "           1       0.18      0.45      0.26       208\n",
      "\n",
      "    accuracy                           0.88      4521\n",
      "   macro avg       0.58      0.68      0.60      4521\n",
      "weighted avg       0.93      0.88      0.90      4521\n",
      "\n",
      "              precision    recall  f1-score   support\n",
      "\n",
      "           0       0.97      0.90      0.93      4275\n",
      "           1       0.23      0.51      0.31       245\n",
      "\n",
      "    accuracy                           0.88      4520\n",
      "   macro avg       0.60      0.71      0.62      4520\n",
      "weighted avg       0.93      0.88      0.90      4520\n",
      "\n",
      "              precision    recall  f1-score   support\n",
      "\n",
      "           0       0.97      0.90      0.93      4282\n",
      "           1       0.22      0.52      0.31       238\n",
      "\n",
      "    accuracy                           0.88      4520\n",
      "   macro avg       0.60      0.71      0.62      4520\n",
      "weighted avg       0.93      0.88      0.90      4520\n",
      "\n",
      "              precision    recall  f1-score   support\n",
      "\n",
      "           0       0.97      0.91      0.94      4291\n",
      "           1       0.23      0.51      0.32       229\n",
      "\n",
      "    accuracy                           0.89      4520\n",
      "   macro avg       0.60      0.71      0.63      4520\n",
      "weighted avg       0.93      0.89      0.91      4520\n",
      "\n"
     ]
    }
   ],
   "source": [
    "kf = KFold(n_splits = 10, shuffle=True, random_state = 0)\n",
    "kf.get_n_splits(X)\n",
    "\n",
    "nb = GaussianNB(var_smoothing= 0.0015199110829529332)\n",
    "\n",
    "for train_index, test_index in kf.split(X):\n",
    "    X_train, X_test = X.iloc[train_index], X.iloc[test_index]\n",
    "    y_train, y_test = y.iloc[train_index], y.iloc[test_index]\n",
    "    nb.fit(X_train, y_train)\n",
    "    y_pred = nb.predict(X_test)\n",
    "    print(classification_report(y_pred, y_test))"
   ]
  },
  {
   "cell_type": "markdown",
   "metadata": {},
   "source": [
    "Berdasarkan hasil dan tabel classification_report di atas, didapatkan hasil akurasi model yang cukup baik yaitu 89%. Akan tetapi, hasil precision, recall, dan f1-score untuk kelas 'yes' (subscribe) masih kurang baik."
   ]
  },
  {
   "cell_type": "markdown",
   "metadata": {},
   "source": [
    "# Model Evaluation"
   ]
  },
  {
   "cell_type": "markdown",
   "metadata": {},
   "source": [
    "Akan dibentuk tabel evaluasi model dengan skor akurasi sesuai hasil yang telah didapat sebagai berikut."
   ]
  },
  {
   "cell_type": "code",
   "execution_count": 167,
   "metadata": {},
   "outputs": [
    {
     "data": {
      "text/html": [
       "<div>\n",
       "<style scoped>\n",
       "    .dataframe tbody tr th:only-of-type {\n",
       "        vertical-align: middle;\n",
       "    }\n",
       "\n",
       "    .dataframe tbody tr th {\n",
       "        vertical-align: top;\n",
       "    }\n",
       "\n",
       "    .dataframe thead th {\n",
       "        text-align: right;\n",
       "    }\n",
       "</style>\n",
       "<table border=\"1\" class=\"dataframe\">\n",
       "  <thead>\n",
       "    <tr style=\"text-align: right;\">\n",
       "      <th></th>\n",
       "      <th>Model</th>\n",
       "      <th>Training</th>\n",
       "      <th>Test</th>\n",
       "    </tr>\n",
       "  </thead>\n",
       "  <tbody>\n",
       "    <tr>\n",
       "      <th>0</th>\n",
       "      <td>Logistic Regression</td>\n",
       "      <td>0.886949</td>\n",
       "      <td>0.884445</td>\n",
       "    </tr>\n",
       "    <tr>\n",
       "      <th>1</th>\n",
       "      <td>kNN</td>\n",
       "      <td>0.910338</td>\n",
       "      <td>0.907362</td>\n",
       "    </tr>\n",
       "    <tr>\n",
       "      <th>2</th>\n",
       "      <td>Naive Bayes</td>\n",
       "      <td>0.882259</td>\n",
       "      <td>0.869492</td>\n",
       "    </tr>\n",
       "    <tr>\n",
       "      <th>3</th>\n",
       "      <td>Decision Tree</td>\n",
       "      <td>1.000000</td>\n",
       "      <td>1.000000</td>\n",
       "    </tr>\n",
       "    <tr>\n",
       "      <th>4</th>\n",
       "      <td>Random Forest</td>\n",
       "      <td>1.000000</td>\n",
       "      <td>0.999912</td>\n",
       "    </tr>\n",
       "    <tr>\n",
       "      <th>5</th>\n",
       "      <td>SVM</td>\n",
       "      <td>0.803982</td>\n",
       "      <td>0.581932</td>\n",
       "    </tr>\n",
       "  </tbody>\n",
       "</table>\n",
       "</div>"
      ],
      "text/plain": [
       "                 Model  Training      Test\n",
       "0  Logistic Regression  0.886949  0.884445\n",
       "1                  kNN  0.910338  0.907362\n",
       "2          Naive Bayes  0.882259  0.869492\n",
       "3        Decision Tree  1.000000  1.000000\n",
       "4        Random Forest  1.000000  0.999912\n",
       "5                  SVM  0.803982  0.581932"
      ]
     },
     "execution_count": 167,
     "metadata": {},
     "output_type": "execute_result"
    }
   ],
   "source": [
    "mod_eval = {'Model': ['Logistic Regression', 'kNN', 'Naive Bayes', 'Decision Tree', 'Random Forest', 'SVM'], \n",
    "            'Training':[lr_score_train, knn_score_train, nb_score_train, dt_score_train, rf_score_train, svm_score_train], \n",
    "            'Test': [lr_score_test, knn_score_test, nb_score_test, dt_score_test, rf_score_test, svm_score_test]}\n",
    "mod_eval = pd.DataFrame(mod_eval)\n",
    "mod_eval"
   ]
  },
  {
   "cell_type": "markdown",
   "metadata": {},
   "source": [
    "# Confusion Matrix"
   ]
  },
  {
   "cell_type": "markdown",
   "metadata": {},
   "source": [
    "Selanjutnya dibentuk confusion matrix sebagai berikut."
   ]
  },
  {
   "cell_type": "code",
   "execution_count": 169,
   "metadata": {},
   "outputs": [
    {
     "data": {
      "text/plain": [
       "array([[3901,  112],\n",
       "       [ 390,  117]], dtype=int64)"
      ]
     },
     "execution_count": 169,
     "metadata": {},
     "output_type": "execute_result"
    }
   ],
   "source": [
    "confusion_matrix(y_test, y_pred)"
   ]
  },
  {
   "cell_type": "markdown",
   "metadata": {},
   "source": [
    "Berdasarkan hasil di atas, didapat hasil bahwa terdapat sekitar 4000 data yang memiliki hasil prediksi tepat dan 500 data yang hasil prediksinya tidak tepat."
   ]
  },
  {
   "cell_type": "markdown",
   "metadata": {},
   "source": [
    "# Kesimpulan\n",
    "Belum dapat ditentukan model apa yang paling baik untuk memprediksi dataset Portuguese Bank karena mayoritas hasil akurasi baik, namun precision, recall, dan f1-score untuk salah satu kelas variabel target masih kurang baik. Hal ini bisa saja disebabkan oleh ketidakseimbangan data target (imbalance data) sehingga diperlukan eksplorasi yang lebih mendalam terhadap data pada tahap EDA."
   ]
  },
  {
   "cell_type": "code",
   "execution_count": null,
   "metadata": {},
   "outputs": [],
   "source": []
  }
 ],
 "metadata": {
  "kernelspec": {
   "display_name": "Python 3",
   "language": "python",
   "name": "python3"
  },
  "language_info": {
   "codemirror_mode": {
    "name": "ipython",
    "version": 3
   },
   "file_extension": ".py",
   "mimetype": "text/x-python",
   "name": "python",
   "nbconvert_exporter": "python",
   "pygments_lexer": "ipython3",
   "version": "3.8.5"
  }
 },
 "nbformat": 4,
 "nbformat_minor": 4
}
